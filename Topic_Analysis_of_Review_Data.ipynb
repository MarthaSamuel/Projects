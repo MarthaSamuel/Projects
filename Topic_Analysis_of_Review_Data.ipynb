{
  "nbformat": 4,
  "nbformat_minor": 0,
  "metadata": {
    "colab": {
      "name": "Topic Analysis of Review Data.ipynb",
      "provenance": [],
      "collapsed_sections": []
    },
    "kernelspec": {
      "name": "python3",
      "display_name": "Python 3"
    },
    "language_info": {
      "name": "python"
    }
  },
  "cells": [
    {
      "cell_type": "markdown",
      "source": [
        "Topic Analysis of Review Data.\n",
        "\n",
        "Project 1\n",
        "\n",
        "DESCRIPTION\n",
        "\n",
        "Help a leading mobile brand understand the voice of the customer by analyzing the reviews of their product on Amazon and the topics that customers are talking about. You will perform topic modeling on specific parts of speech. You’ll finally interpret the emerging topics.\n",
        "\n",
        "Problem Statement: \n",
        "\n",
        "A popular mobile phone brand, Lenovo has launched their budget smartphone in the Indian market. The client wants to understand the VOC (voice of the customer) on the product. This will be useful to not just evaluate the current product, but to also get some direction for developing the product pipeline. The client is particularly interested in the different aspects that customers care about. Product reviews by customers on a leading e-commerce site should provide a good view.\n",
        "\n",
        "Domain: Amazon reviews for a leading phone brand\n",
        "\n",
        "Analysis to be done: POS tagging, topic modeling using LDA, and topic interpretation\n",
        "\n",
        "Content: \n",
        "\n",
        "Dataset: ‘K8 Reviews v0.2.csv’\n",
        "\n",
        "Columns:\n",
        "\n",
        "Sentiment: The sentiment against the review (4,5 star reviews are positive, 1,2 are negative)\n",
        "\n",
        "Reviews: The main text of the review\n",
        "\n",
        "Steps to perform:\n",
        "\n",
        "Discover the topics in the reviews and present it to business in a consumable format. Employ techniques in syntactic processing and topic modeling.\n",
        "\n",
        "Perform specific cleanup, POS tagging, and restricting to relevant POS tags, then, perform topic modeling using LDA. Finally, give business-friendly names to the topics and make a table for business.\n",
        "\n",
        "Tasks: \n",
        "\n",
        "    Read the .csv file using Pandas. Take a look at the top few records.\n",
        "\n",
        "    Normalize casings for the review text and extract the text into a list for easier manipulation.\n",
        "\n",
        "    Tokenize the reviews using NLTKs word_tokenize function.\n",
        "\n",
        "    Perform parts-of-speech tagging on each sentence using the NLTK POS tagger.\n",
        "\n",
        "    For the topic model, we should  want to include only nouns.\n",
        "\n",
        "        Find out all the POS tags that correspond to nouns.\n",
        "\n",
        "        Limit the data to only terms with these tags.\n",
        "\n",
        "    Lemmatize. \n",
        "\n",
        "        Different forms of the terms need to be treated as one.\n",
        "\n",
        "        No need to provide POS tag to lemmatizer for now.\n",
        "\n",
        "    Remove stopwords and punctuation (if there are any). \n",
        "\n",
        "    Create a topic model using LDA on the cleaned up data with 12 topics.\n",
        "\n",
        "        Print out the top terms for each topic.\n",
        "\n",
        "        What is the coherence of the model with the c_v metric?\n",
        "\n",
        "    Analyze the topics through the business lens.\n",
        "\n",
        "        Determine which of the topics can be combined.\n",
        "\n",
        "    Create topic model using LDA with what you think is the optimal number of topics\n",
        "\n",
        "        What is the coherence of the model?\n",
        "\n",
        "    The business should  be able to interpret the topics.\n",
        "\n",
        "        Name each of the identified topics.\n",
        "\n",
        "        Create a table with the topic name and the top 10 terms in each to present to the  business.\n"
      ],
      "metadata": {
        "id": "8gwbTXIPHmVo"
      }
    },
    {
      "cell_type": "code",
      "execution_count": 1,
      "metadata": {
        "id": "5Krkqxu4Hj-U"
      },
      "outputs": [],
      "source": [
        "import pandas as pd"
      ]
    },
    {
      "cell_type": "code",
      "source": [
        "import re, random, os, string, numpy as np\n",
        "\n",
        "from pprint import pprint #pretty print\n",
        "import matplotlib.pyplot as plt\n",
        "%matplotlib inline\n",
        "\n",
        "from nltk.tokenize import word_tokenize\n",
        "from nltk.stem import WordNetLemmatizer"
      ],
      "metadata": {
        "id": "JMhSaMeALDd6"
      },
      "execution_count": 2,
      "outputs": []
    },
    {
      "cell_type": "code",
      "source": [
        "import nltk\n",
        "nltk.download('punkt')\n",
        "  "
      ],
      "metadata": {
        "colab": {
          "base_uri": "https://localhost:8080/"
        },
        "id": "xXv_m317LsL6",
        "outputId": "d031d645-5031-4863-a318-77e1295d651b"
      },
      "execution_count": 28,
      "outputs": [
        {
          "output_type": "stream",
          "name": "stdout",
          "text": [
            "[nltk_data] Downloading package punkt to /root/nltk_data...\n",
            "[nltk_data]   Unzipping tokenizers/punkt.zip.\n"
          ]
        },
        {
          "output_type": "execute_result",
          "data": {
            "text/plain": [
              "True"
            ]
          },
          "metadata": {},
          "execution_count": 28
        }
      ]
    },
    {
      "cell_type": "code",
      "source": [
        "nltk.download('averaged_perceptron_tagger')"
      ],
      "metadata": {
        "colab": {
          "base_uri": "https://localhost:8080/"
        },
        "id": "HvzfMIbtTaiv",
        "outputId": "39cdfe53-c444-474d-d894-2a51f8c749b5"
      },
      "execution_count": 31,
      "outputs": [
        {
          "output_type": "stream",
          "name": "stdout",
          "text": [
            "[nltk_data] Downloading package averaged_perceptron_tagger to\n",
            "[nltk_data]     /root/nltk_data...\n",
            "[nltk_data]   Unzipping taggers/averaged_perceptron_tagger.zip.\n"
          ]
        },
        {
          "output_type": "execute_result",
          "data": {
            "text/plain": [
              "True"
            ]
          },
          "metadata": {},
          "execution_count": 31
        }
      ]
    },
    {
      "cell_type": "code",
      "source": [
        "nltk.download('tagsets')"
      ],
      "metadata": {
        "colab": {
          "base_uri": "https://localhost:8080/"
        },
        "id": "Z1rlIxu6TalX",
        "outputId": "b4dd7b48-f772-4718-c82e-ce07663d6e8f"
      },
      "execution_count": 35,
      "outputs": [
        {
          "output_type": "stream",
          "name": "stdout",
          "text": [
            "[nltk_data] Downloading package tagsets to /root/nltk_data...\n",
            "[nltk_data]   Unzipping help/tagsets.zip.\n"
          ]
        },
        {
          "output_type": "execute_result",
          "data": {
            "text/plain": [
              "True"
            ]
          },
          "metadata": {},
          "execution_count": 35
        }
      ]
    },
    {
      "cell_type": "code",
      "source": [
        "nltk.download('wordnet')"
      ],
      "metadata": {
        "colab": {
          "base_uri": "https://localhost:8080/"
        },
        "id": "O8w4Y7zCTaow",
        "outputId": "4f14c7bb-ec92-4fa0-8bb3-aec68a0a7e0a"
      },
      "execution_count": 40,
      "outputs": [
        {
          "output_type": "stream",
          "name": "stdout",
          "text": [
            "[nltk_data] Downloading package wordnet to /root/nltk_data...\n",
            "[nltk_data]   Unzipping corpora/wordnet.zip.\n"
          ]
        },
        {
          "output_type": "execute_result",
          "data": {
            "text/plain": [
              "True"
            ]
          },
          "metadata": {},
          "execution_count": 40
        }
      ]
    },
    {
      "cell_type": "code",
      "source": [
        "nltk.download('stopwords')"
      ],
      "metadata": {
        "colab": {
          "base_uri": "https://localhost:8080/"
        },
        "id": "6mhM7m4mTa6t",
        "outputId": "815364e6-5bf7-4812-ec78-7051a885cd0d"
      },
      "execution_count": 43,
      "outputs": [
        {
          "output_type": "stream",
          "name": "stdout",
          "text": [
            "[nltk_data] Downloading package stopwords to /root/nltk_data...\n",
            "[nltk_data]   Unzipping corpora/stopwords.zip.\n"
          ]
        },
        {
          "output_type": "execute_result",
          "data": {
            "text/plain": [
              "True"
            ]
          },
          "metadata": {},
          "execution_count": 43
        }
      ]
    },
    {
      "cell_type": "code",
      "source": [
        "import gensim\n",
        "import gensim.corpora as corpora\n",
        "from gensim.models import CoherenceModel\n",
        "from gensim.models import ldamodel"
      ],
      "metadata": {
        "id": "ZQFyd4NETa8_"
      },
      "execution_count": 49,
      "outputs": []
    },
    {
      "cell_type": "code",
      "source": [
        ""
      ],
      "metadata": {
        "id": "6GJC-Fh0OJeT"
      },
      "execution_count": null,
      "outputs": []
    },
    {
      "cell_type": "code",
      "source": [
        "from google.colab import drive \n",
        "drive.mount('/content/drive')"
      ],
      "metadata": {
        "colab": {
          "base_uri": "https://localhost:8080/"
        },
        "id": "J3tEHa7UOJgt",
        "outputId": "7f3d5483-e6b4-471b-82cf-0b192f836ebc"
      },
      "execution_count": 4,
      "outputs": [
        {
          "output_type": "stream",
          "name": "stdout",
          "text": [
            "Mounted at /content/drive\n"
          ]
        }
      ]
    },
    {
      "cell_type": "code",
      "source": [
        "df=pd.read_csv('/content/drive/MyDrive/K8 Reviews v0.2.csv')"
      ],
      "metadata": {
        "id": "1cQgzjSOLG3Q"
      },
      "execution_count": 22,
      "outputs": []
    },
    {
      "cell_type": "code",
      "source": [
        "df.head()"
      ],
      "metadata": {
        "colab": {
          "base_uri": "https://localhost:8080/",
          "height": 197
        },
        "id": "4PrGdOD0LG6I",
        "outputId": "e82eb1e8-7e44-432f-d8c2-8846217c99a8"
      },
      "execution_count": 23,
      "outputs": [
        {
          "output_type": "execute_result",
          "data": {
            "text/html": [
              "\n",
              "  <div id=\"df-934bc8fd-e63c-44c2-9cc5-289e90915267\">\n",
              "    <div class=\"colab-df-container\">\n",
              "      <div>\n",
              "<style scoped>\n",
              "    .dataframe tbody tr th:only-of-type {\n",
              "        vertical-align: middle;\n",
              "    }\n",
              "\n",
              "    .dataframe tbody tr th {\n",
              "        vertical-align: top;\n",
              "    }\n",
              "\n",
              "    .dataframe thead th {\n",
              "        text-align: right;\n",
              "    }\n",
              "</style>\n",
              "<table border=\"1\" class=\"dataframe\">\n",
              "  <thead>\n",
              "    <tr style=\"text-align: right;\">\n",
              "      <th></th>\n",
              "      <th>sentiment</th>\n",
              "      <th>review</th>\n",
              "    </tr>\n",
              "  </thead>\n",
              "  <tbody>\n",
              "    <tr>\n",
              "      <th>0</th>\n",
              "      <td>1</td>\n",
              "      <td>Good but need updates and improvements</td>\n",
              "    </tr>\n",
              "    <tr>\n",
              "      <th>1</th>\n",
              "      <td>0</td>\n",
              "      <td>Worst mobile i have bought ever, Battery is dr...</td>\n",
              "    </tr>\n",
              "    <tr>\n",
              "      <th>2</th>\n",
              "      <td>1</td>\n",
              "      <td>when I will get my 10% cash back.... its alrea...</td>\n",
              "    </tr>\n",
              "    <tr>\n",
              "      <th>3</th>\n",
              "      <td>1</td>\n",
              "      <td>Good</td>\n",
              "    </tr>\n",
              "    <tr>\n",
              "      <th>4</th>\n",
              "      <td>0</td>\n",
              "      <td>The worst phone everThey have changed the last...</td>\n",
              "    </tr>\n",
              "  </tbody>\n",
              "</table>\n",
              "</div>\n",
              "      <button class=\"colab-df-convert\" onclick=\"convertToInteractive('df-934bc8fd-e63c-44c2-9cc5-289e90915267')\"\n",
              "              title=\"Convert this dataframe to an interactive table.\"\n",
              "              style=\"display:none;\">\n",
              "        \n",
              "  <svg xmlns=\"http://www.w3.org/2000/svg\" height=\"24px\"viewBox=\"0 0 24 24\"\n",
              "       width=\"24px\">\n",
              "    <path d=\"M0 0h24v24H0V0z\" fill=\"none\"/>\n",
              "    <path d=\"M18.56 5.44l.94 2.06.94-2.06 2.06-.94-2.06-.94-.94-2.06-.94 2.06-2.06.94zm-11 1L8.5 8.5l.94-2.06 2.06-.94-2.06-.94L8.5 2.5l-.94 2.06-2.06.94zm10 10l.94 2.06.94-2.06 2.06-.94-2.06-.94-.94-2.06-.94 2.06-2.06.94z\"/><path d=\"M17.41 7.96l-1.37-1.37c-.4-.4-.92-.59-1.43-.59-.52 0-1.04.2-1.43.59L10.3 9.45l-7.72 7.72c-.78.78-.78 2.05 0 2.83L4 21.41c.39.39.9.59 1.41.59.51 0 1.02-.2 1.41-.59l7.78-7.78 2.81-2.81c.8-.78.8-2.07 0-2.86zM5.41 20L4 18.59l7.72-7.72 1.47 1.35L5.41 20z\"/>\n",
              "  </svg>\n",
              "      </button>\n",
              "      \n",
              "  <style>\n",
              "    .colab-df-container {\n",
              "      display:flex;\n",
              "      flex-wrap:wrap;\n",
              "      gap: 12px;\n",
              "    }\n",
              "\n",
              "    .colab-df-convert {\n",
              "      background-color: #E8F0FE;\n",
              "      border: none;\n",
              "      border-radius: 50%;\n",
              "      cursor: pointer;\n",
              "      display: none;\n",
              "      fill: #1967D2;\n",
              "      height: 32px;\n",
              "      padding: 0 0 0 0;\n",
              "      width: 32px;\n",
              "    }\n",
              "\n",
              "    .colab-df-convert:hover {\n",
              "      background-color: #E2EBFA;\n",
              "      box-shadow: 0px 1px 2px rgba(60, 64, 67, 0.3), 0px 1px 3px 1px rgba(60, 64, 67, 0.15);\n",
              "      fill: #174EA6;\n",
              "    }\n",
              "\n",
              "    [theme=dark] .colab-df-convert {\n",
              "      background-color: #3B4455;\n",
              "      fill: #D2E3FC;\n",
              "    }\n",
              "\n",
              "    [theme=dark] .colab-df-convert:hover {\n",
              "      background-color: #434B5C;\n",
              "      box-shadow: 0px 1px 3px 1px rgba(0, 0, 0, 0.15);\n",
              "      filter: drop-shadow(0px 1px 2px rgba(0, 0, 0, 0.3));\n",
              "      fill: #FFFFFF;\n",
              "    }\n",
              "  </style>\n",
              "\n",
              "      <script>\n",
              "        const buttonEl =\n",
              "          document.querySelector('#df-934bc8fd-e63c-44c2-9cc5-289e90915267 button.colab-df-convert');\n",
              "        buttonEl.style.display =\n",
              "          google.colab.kernel.accessAllowed ? 'block' : 'none';\n",
              "\n",
              "        async function convertToInteractive(key) {\n",
              "          const element = document.querySelector('#df-934bc8fd-e63c-44c2-9cc5-289e90915267');\n",
              "          const dataTable =\n",
              "            await google.colab.kernel.invokeFunction('convertToInteractive',\n",
              "                                                     [key], {});\n",
              "          if (!dataTable) return;\n",
              "\n",
              "          const docLinkHtml = 'Like what you see? Visit the ' +\n",
              "            '<a target=\"_blank\" href=https://colab.research.google.com/notebooks/data_table.ipynb>data table notebook</a>'\n",
              "            + ' to learn more about interactive tables.';\n",
              "          element.innerHTML = '';\n",
              "          dataTable['output_type'] = 'display_data';\n",
              "          await google.colab.output.renderOutput(dataTable, element);\n",
              "          const docLink = document.createElement('div');\n",
              "          docLink.innerHTML = docLinkHtml;\n",
              "          element.appendChild(docLink);\n",
              "        }\n",
              "      </script>\n",
              "    </div>\n",
              "  </div>\n",
              "  "
            ],
            "text/plain": [
              "   sentiment                                             review\n",
              "0          1             Good but need updates and improvements\n",
              "1          0  Worst mobile i have bought ever, Battery is dr...\n",
              "2          1  when I will get my 10% cash back.... its alrea...\n",
              "3          1                                               Good\n",
              "4          0  The worst phone everThey have changed the last..."
            ]
          },
          "metadata": {},
          "execution_count": 23
        }
      ]
    },
    {
      "cell_type": "code",
      "source": [
        "df_low=[sent.lower() for sent in df.review.values]\n",
        "df_low[0]\n"
      ],
      "metadata": {
        "colab": {
          "base_uri": "https://localhost:8080/",
          "height": 35
        },
        "id": "HZpiANbcR8xj",
        "outputId": "e9d19bd1-0e58-4782-b74f-94dfea8f470a"
      },
      "execution_count": 25,
      "outputs": [
        {
          "output_type": "execute_result",
          "data": {
            "application/vnd.google.colaboratory.intrinsic+json": {
              "type": "string"
            },
            "text/plain": [
              "'good but need updates and improvements'"
            ]
          },
          "metadata": {},
          "execution_count": 25
        }
      ]
    },
    {
      "cell_type": "code",
      "source": [
        "df_token = [word_tokenize(sent) for sent in df.review.values]\n",
        "df_token[0]"
      ],
      "metadata": {
        "colab": {
          "base_uri": "https://localhost:8080/"
        },
        "id": "wz3losYyR80P",
        "outputId": "39d62b3d-78b5-4ebe-c431-bec947bde528"
      },
      "execution_count": 29,
      "outputs": [
        {
          "output_type": "execute_result",
          "data": {
            "text/plain": [
              "['Good', 'but', 'need', 'updates', 'and', 'improvements']"
            ]
          },
          "metadata": {},
          "execution_count": 29
        }
      ]
    },
    {
      "cell_type": "code",
      "source": [
        "nltk.pos_tag(df_token[0])"
      ],
      "metadata": {
        "colab": {
          "base_uri": "https://localhost:8080/"
        },
        "id": "5HlWos4TR82_",
        "outputId": "cf699fd7-c22d-4135-d57d-09ba39a135e5"
      },
      "execution_count": 32,
      "outputs": [
        {
          "output_type": "execute_result",
          "data": {
            "text/plain": [
              "[('Good', 'JJ'),\n",
              " ('but', 'CC'),\n",
              " ('need', 'VBP'),\n",
              " ('updates', 'NNS'),\n",
              " ('and', 'CC'),\n",
              " ('improvements', 'NNS')]"
            ]
          },
          "metadata": {},
          "execution_count": 32
        }
      ]
    },
    {
      "cell_type": "code",
      "source": [
        "df_pos = [nltk.pos_tag(token) for token in df_token]\n",
        "df_pos[0]"
      ],
      "metadata": {
        "colab": {
          "base_uri": "https://localhost:8080/"
        },
        "id": "iksIq5SfR85v",
        "outputId": "259fc698-a509-4224-c54e-8e35dca66d55"
      },
      "execution_count": 33,
      "outputs": [
        {
          "output_type": "execute_result",
          "data": {
            "text/plain": [
              "[('Good', 'JJ'),\n",
              " ('but', 'CC'),\n",
              " ('need', 'VBP'),\n",
              " ('updates', 'NNS'),\n",
              " ('and', 'CC'),\n",
              " ('improvements', 'NNS')]"
            ]
          },
          "metadata": {},
          "execution_count": 33
        }
      ]
    },
    {
      "cell_type": "code",
      "source": [
        "nltk.help.upenn_tagset()"
      ],
      "metadata": {
        "colab": {
          "base_uri": "https://localhost:8080/"
        },
        "id": "DV70svQsR89C",
        "outputId": "c059e5cf-9e4b-4ad7-992a-0d9a65ee8b35"
      },
      "execution_count": 36,
      "outputs": [
        {
          "output_type": "stream",
          "name": "stdout",
          "text": [
            "$: dollar\n",
            "    $ -$ --$ A$ C$ HK$ M$ NZ$ S$ U.S.$ US$\n",
            "'': closing quotation mark\n",
            "    ' ''\n",
            "(: opening parenthesis\n",
            "    ( [ {\n",
            "): closing parenthesis\n",
            "    ) ] }\n",
            ",: comma\n",
            "    ,\n",
            "--: dash\n",
            "    --\n",
            ".: sentence terminator\n",
            "    . ! ?\n",
            ":: colon or ellipsis\n",
            "    : ; ...\n",
            "CC: conjunction, coordinating\n",
            "    & 'n and both but either et for less minus neither nor or plus so\n",
            "    therefore times v. versus vs. whether yet\n",
            "CD: numeral, cardinal\n",
            "    mid-1890 nine-thirty forty-two one-tenth ten million 0.5 one forty-\n",
            "    seven 1987 twenty '79 zero two 78-degrees eighty-four IX '60s .025\n",
            "    fifteen 271,124 dozen quintillion DM2,000 ...\n",
            "DT: determiner\n",
            "    all an another any both del each either every half la many much nary\n",
            "    neither no some such that the them these this those\n",
            "EX: existential there\n",
            "    there\n",
            "FW: foreign word\n",
            "    gemeinschaft hund ich jeux habeas Haementeria Herr K'ang-si vous\n",
            "    lutihaw alai je jour objets salutaris fille quibusdam pas trop Monte\n",
            "    terram fiche oui corporis ...\n",
            "IN: preposition or conjunction, subordinating\n",
            "    astride among uppon whether out inside pro despite on by throughout\n",
            "    below within for towards near behind atop around if like until below\n",
            "    next into if beside ...\n",
            "JJ: adjective or numeral, ordinal\n",
            "    third ill-mannered pre-war regrettable oiled calamitous first separable\n",
            "    ectoplasmic battery-powered participatory fourth still-to-be-named\n",
            "    multilingual multi-disciplinary ...\n",
            "JJR: adjective, comparative\n",
            "    bleaker braver breezier briefer brighter brisker broader bumper busier\n",
            "    calmer cheaper choosier cleaner clearer closer colder commoner costlier\n",
            "    cozier creamier crunchier cuter ...\n",
            "JJS: adjective, superlative\n",
            "    calmest cheapest choicest classiest cleanest clearest closest commonest\n",
            "    corniest costliest crassest creepiest crudest cutest darkest deadliest\n",
            "    dearest deepest densest dinkiest ...\n",
            "LS: list item marker\n",
            "    A A. B B. C C. D E F First G H I J K One SP-44001 SP-44002 SP-44005\n",
            "    SP-44007 Second Third Three Two * a b c d first five four one six three\n",
            "    two\n",
            "MD: modal auxiliary\n",
            "    can cannot could couldn't dare may might must need ought shall should\n",
            "    shouldn't will would\n",
            "NN: noun, common, singular or mass\n",
            "    common-carrier cabbage knuckle-duster Casino afghan shed thermostat\n",
            "    investment slide humour falloff slick wind hyena override subhumanity\n",
            "    machinist ...\n",
            "NNP: noun, proper, singular\n",
            "    Motown Venneboerger Czestochwa Ranzer Conchita Trumplane Christos\n",
            "    Oceanside Escobar Kreisler Sawyer Cougar Yvette Ervin ODI Darryl CTCA\n",
            "    Shannon A.K.C. Meltex Liverpool ...\n",
            "NNPS: noun, proper, plural\n",
            "    Americans Americas Amharas Amityvilles Amusements Anarcho-Syndicalists\n",
            "    Andalusians Andes Andruses Angels Animals Anthony Antilles Antiques\n",
            "    Apache Apaches Apocrypha ...\n",
            "NNS: noun, common, plural\n",
            "    undergraduates scotches bric-a-brac products bodyguards facets coasts\n",
            "    divestitures storehouses designs clubs fragrances averages\n",
            "    subjectivists apprehensions muses factory-jobs ...\n",
            "PDT: pre-determiner\n",
            "    all both half many quite such sure this\n",
            "POS: genitive marker\n",
            "    ' 's\n",
            "PRP: pronoun, personal\n",
            "    hers herself him himself hisself it itself me myself one oneself ours\n",
            "    ourselves ownself self she thee theirs them themselves they thou thy us\n",
            "PRP$: pronoun, possessive\n",
            "    her his mine my our ours their thy your\n",
            "RB: adverb\n",
            "    occasionally unabatingly maddeningly adventurously professedly\n",
            "    stirringly prominently technologically magisterially predominately\n",
            "    swiftly fiscally pitilessly ...\n",
            "RBR: adverb, comparative\n",
            "    further gloomier grander graver greater grimmer harder harsher\n",
            "    healthier heavier higher however larger later leaner lengthier less-\n",
            "    perfectly lesser lonelier longer louder lower more ...\n",
            "RBS: adverb, superlative\n",
            "    best biggest bluntest earliest farthest first furthest hardest\n",
            "    heartiest highest largest least less most nearest second tightest worst\n",
            "RP: particle\n",
            "    aboard about across along apart around aside at away back before behind\n",
            "    by crop down ever fast for forth from go high i.e. in into just later\n",
            "    low more off on open out over per pie raising start teeth that through\n",
            "    under unto up up-pp upon whole with you\n",
            "SYM: symbol\n",
            "    % & ' '' ''. ) ). * + ,. < = > @ A[fj] U.S U.S.S.R * ** ***\n",
            "TO: \"to\" as preposition or infinitive marker\n",
            "    to\n",
            "UH: interjection\n",
            "    Goodbye Goody Gosh Wow Jeepers Jee-sus Hubba Hey Kee-reist Oops amen\n",
            "    huh howdy uh dammit whammo shucks heck anyways whodunnit honey golly\n",
            "    man baby diddle hush sonuvabitch ...\n",
            "VB: verb, base form\n",
            "    ask assemble assess assign assume atone attention avoid bake balkanize\n",
            "    bank begin behold believe bend benefit bevel beware bless boil bomb\n",
            "    boost brace break bring broil brush build ...\n",
            "VBD: verb, past tense\n",
            "    dipped pleaded swiped regummed soaked tidied convened halted registered\n",
            "    cushioned exacted snubbed strode aimed adopted belied figgered\n",
            "    speculated wore appreciated contemplated ...\n",
            "VBG: verb, present participle or gerund\n",
            "    telegraphing stirring focusing angering judging stalling lactating\n",
            "    hankerin' alleging veering capping approaching traveling besieging\n",
            "    encrypting interrupting erasing wincing ...\n",
            "VBN: verb, past participle\n",
            "    multihulled dilapidated aerosolized chaired languished panelized used\n",
            "    experimented flourished imitated reunifed factored condensed sheared\n",
            "    unsettled primed dubbed desired ...\n",
            "VBP: verb, present tense, not 3rd person singular\n",
            "    predominate wrap resort sue twist spill cure lengthen brush terminate\n",
            "    appear tend stray glisten obtain comprise detest tease attract\n",
            "    emphasize mold postpone sever return wag ...\n",
            "VBZ: verb, present tense, 3rd person singular\n",
            "    bases reconstructs marks mixes displeases seals carps weaves snatches\n",
            "    slumps stretches authorizes smolders pictures emerges stockpiles\n",
            "    seduces fizzes uses bolsters slaps speaks pleads ...\n",
            "WDT: WH-determiner\n",
            "    that what whatever which whichever\n",
            "WP: WH-pronoun\n",
            "    that what whatever whatsoever which who whom whosoever\n",
            "WP$: WH-pronoun, possessive\n",
            "    whose\n",
            "WRB: Wh-adverb\n",
            "    how however whence whenever where whereby whereever wherein whereof why\n",
            "``: opening quotation mark\n",
            "    ` ``\n"
          ]
        }
      ]
    },
    {
      "cell_type": "code",
      "source": [
        "df_noun=[]\n",
        "for sent in df_pos:\n",
        "    df_noun.append([token for token in sent if re.search(\"NN.*\", token[1])])\n",
        "df_noun[0]"
      ],
      "metadata": {
        "colab": {
          "base_uri": "https://localhost:8080/"
        },
        "id": "yL1tlg4DR8-_",
        "outputId": "fcef8a6a-8944-46c6-a15a-0546742c1fd9"
      },
      "execution_count": 38,
      "outputs": [
        {
          "output_type": "execute_result",
          "data": {
            "text/plain": [
              "[('updates', 'NNS'), ('improvements', 'NNS')]"
            ]
          },
          "metadata": {},
          "execution_count": 38
        }
      ]
    },
    {
      "cell_type": "code",
      "source": [
        "lemm = WordNetLemmatizer()\n",
        "df_lemm=[]\n",
        "for sent in df_noun:\n",
        "    df_lemm.append([lemm.lemmatize(word[0]) for word in sent])\n",
        "df_lemm[0]"
      ],
      "metadata": {
        "colab": {
          "base_uri": "https://localhost:8080/"
        },
        "id": "IS6-OvI_R9A_",
        "outputId": "5a09376a-2afa-4f3a-95c2-7c9c66ad88e3"
      },
      "execution_count": 41,
      "outputs": [
        {
          "output_type": "execute_result",
          "data": {
            "text/plain": [
              "['update', 'improvement']"
            ]
          },
          "metadata": {},
          "execution_count": 41
        }
      ]
    },
    {
      "cell_type": "code",
      "source": [
        "from string import punctuation\n",
        "from nltk.corpus import stopwords\n",
        "stop_nltk = stopwords.words(\"english\")"
      ],
      "metadata": {
        "id": "NosvuYp6R9GL"
      },
      "execution_count": 44,
      "outputs": []
    },
    {
      "cell_type": "code",
      "source": [
        "stop_updated = stop_nltk + list(punctuation) + [\"...\"] + [\"..\"]\n",
        "df_stpremoved=[]\n",
        "for sent in df_lemm:\n",
        "    df_stpremoved.append([term for term in sent if term not in stop_updated])"
      ],
      "metadata": {
        "id": "jJ0D0jl_R9Jq"
      },
      "execution_count": 45,
      "outputs": []
    },
    {
      "cell_type": "code",
      "source": [
        "df_stpremoved[4]"
      ],
      "metadata": {
        "colab": {
          "base_uri": "https://localhost:8080/"
        },
        "id": "GnM9pF-ULG8S",
        "outputId": "4951b91c-32bd-4bf7-a448-05a7582f1579"
      },
      "execution_count": 48,
      "outputs": [
        {
          "output_type": "execute_result",
          "data": {
            "text/plain": [
              "['phone', 'everThey', 'phone', 'problem', 'amazon', 'phone', 'amazon']"
            ]
          },
          "metadata": {},
          "execution_count": 48
        }
      ]
    },
    {
      "cell_type": "code",
      "source": [
        "\n",
        "id2word = corpora.Dictionary(df_stpremoved)\n",
        "texts = df_stpremoved\n",
        "corpus = [id2word.doc2bow(text) for text in texts]\n",
        "print(corpus[200])"
      ],
      "metadata": {
        "colab": {
          "base_uri": "https://localhost:8080/"
        },
        "id": "zf0X9NTccsvP",
        "outputId": "345e73b9-d589-4bbb-c1d4-c7363572a981"
      },
      "execution_count": 52,
      "outputs": [
        {
          "output_type": "stream",
          "name": "stdout",
          "text": [
            "[(512, 1), (513, 1), (514, 1), (515, 1)]\n"
          ]
        }
      ]
    },
    {
      "cell_type": "code",
      "source": [
        "lda_model = gensim.models.ldamodel.LdaModel(corpus=corpus,\n",
        "                                           id2word=id2word,\n",
        "                                           num_topics=12, \n",
        "                                           random_state=42,\n",
        "                                           passes=10,\n",
        "                                           per_word_topics=True)"
      ],
      "metadata": {
        "id": "qFhaVDsuc5Ry"
      },
      "execution_count": 53,
      "outputs": []
    },
    {
      "cell_type": "code",
      "source": [
        "pprint(lda_model.print_topics())"
      ],
      "metadata": {
        "colab": {
          "base_uri": "https://localhost:8080/"
        },
        "id": "jPvz02M4dNu1",
        "outputId": "703fd85c-5005-4f8c-967d-93ac4d06d17a"
      },
      "execution_count": 54,
      "outputs": [
        {
          "output_type": "stream",
          "name": "stdout",
          "text": [
            "[(0,\n",
            "  '0.131*\"mobile\" + 0.065*\"service\" + 0.025*\"handset\" + 0.019*\"center\" + '\n",
            "  '0.018*\"device\" + 0.017*\"Lenovo\" + 0.016*\"Superb\" + 0.013*\"Excellent\" + '\n",
            "  '0.012*\"centre\" + 0.010*\"version\"'),\n",
            " (1,\n",
            "  '0.122*\"camera\" + 0.078*\"phone\" + 0.061*\"quality\" + 0.037*\"price\" + '\n",
            "  '0.028*\"feature\" + 0.021*\"battery\" + 0.018*\"performance\" + 0.017*\"mode\" + '\n",
            "  '0.016*\"range\" + 0.016*\"Camera\"'),\n",
            " (2,\n",
            "  '0.019*\"speaker\" + 0.014*\"item\" + 0.010*\"expectation\" + 0.010*\"facility\" + '\n",
            "  '0.009*\"weight\" + 0.007*\"se\" + 0.007*\"par\" + 0.007*\"ka\" + 0.007*\"hi\" + '\n",
            "  '0.006*\"half\"'),\n",
            " (3,\n",
            "  '0.114*\"Lenovo\" + 0.094*\"note\" + 0.045*\"K8\" + 0.037*\"k8\" + 0.026*\"Note\" + '\n",
            "  '0.017*\"phone\" + 0.015*\"box\" + 0.013*\"feature\" + 0.013*\"option\" + '\n",
            "  '0.011*\"call\"'),\n",
            " (4,\n",
            "  '0.230*\"product\" + 0.087*\"Nice\" + 0.065*\"phone\" + 0.036*\"Awesome\" + '\n",
            "  '0.032*\"mobile\" + 0.025*\"delivery\" + 0.017*\"Amazon\" + 0.014*\"price\" + '\n",
            "  '0.007*\"experience\" + 0.007*\"Thanks\"'),\n",
            " (5,\n",
            "  '0.049*\"performance\" + 0.046*\"charger\" + 0.042*\"update\" + 0.041*\"battery\" + '\n",
            "  '0.035*\"issue\" + 0.029*\"software\" + 0.027*\"day\" + 0.023*\"month\" + '\n",
            "  '0.018*\"Battery\" + 0.017*\"turbo\"'),\n",
            " (6,\n",
            "  '0.016*\"Dolby\" + 0.014*\"Atmos\" + 0.014*\"NOT\" + 0.013*\"buy\" + 0.013*\"IS\" + '\n",
            "  '0.011*\"Charger\" + 0.011*\"PHONE\" + 0.010*\"class\" + 0.010*\"AND\" + '\n",
            "  '0.009*\"MOBILE\"'),\n",
            " (7,\n",
            "  '0.250*\"phone\" + 0.077*\"battery\" + 0.070*\"Phone\" + 0.023*\"life\" + '\n",
            "  '0.022*\"backup\" + 0.017*\"heat\" + 0.015*\"budget\" + 0.011*\"phone..\" + '\n",
            "  '0.008*\"month\" + 0.007*\"game\"'),\n",
            " (8,\n",
            "  '0.066*\"Battery\" + 0.051*\"Camera\" + 0.027*\"Product\" + 0.023*\"Poor\" + '\n",
            "  '0.022*\"clarity\" + 0.018*\"mark\" + 0.018*\"card\" + 0.017*\"backup\" + '\n",
            "  '0.015*\"picture\" + 0.014*\"superb\"'),\n",
            " (9,\n",
            "  '0.166*\"problem\" + 0.056*\"phone\" + 0.033*\"heating\" + 0.032*\"screen\" + '\n",
            "  '0.019*\"option\" + 0.016*\"Super\" + 0.015*\"work\" + 0.014*\"day\" + 0.013*\"cast\" '\n",
            "  '+ 0.013*\"network\"'),\n",
            " (10,\n",
            "  '0.064*\"issue\" + 0.037*\"Mobile\" + 0.032*\"Amazon\" + 0.031*\"phone\" + '\n",
            "  '0.029*\"network\" + 0.021*\"call\" + 0.020*\"problem\" + 0.018*\"sim\" + '\n",
            "  '0.018*\"hai\" + 0.017*\"h\"'),\n",
            " (11,\n",
            "  '0.093*\"phone\" + 0.060*\"battery\" + 0.043*\"money\" + 0.035*\"time\" + '\n",
            "  '0.025*\"Worst\" + 0.024*\"hour\" + 0.020*\"issue\" + 0.016*\"day\" + '\n",
            "  '0.016*\"Battery\" + 0.015*\"charge\"')]\n"
          ]
        }
      ]
    },
    {
      "cell_type": "code",
      "source": [
        "# Compute Coherence Score\n",
        "coherence_model_lda = CoherenceModel(model=lda_model, texts=df_stpremoved, dictionary=id2word, coherence='c_v')\n",
        "coherence_lda = coherence_model_lda.get_coherence()\n",
        "print('\\nCoherence Score: ', coherence_lda)"
      ],
      "metadata": {
        "colab": {
          "base_uri": "https://localhost:8080/"
        },
        "id": "zQi0bLUZdZTd",
        "outputId": "fac4e9bd-431a-4831-cfd6-f57df212f01e"
      },
      "execution_count": 55,
      "outputs": [
        {
          "output_type": "stream",
          "name": "stdout",
          "text": [
            "\n",
            "Coherence Score:  0.49429914449377493\n"
          ]
        }
      ]
    },
    {
      "cell_type": "markdown",
      "source": [
        "Looking at the topics and each terms following can be combined -\n",
        "Topic 2 and 5 possibly talks about 'pricing'\n",
        "Topic 4, 6 and 10 closely talks about 'battery related issues'\n",
        "Topic 3 and 11 vaguely talks about 'performance'"
      ],
      "metadata": {
        "id": "_hAeyj4Xd2Xy"
      }
    },
    {
      "cell_type": "code",
      "source": [
        "# Build LDA model\n",
        "lda_model6 = gensim.models.ldamodel.LdaModel(corpus=corpus,\n",
        "                                           id2word=id2word,\n",
        "                                           num_topics=6, \n",
        "                                           random_state=42,\n",
        "                                           passes=10,\n",
        "                                           per_word_topics=True)"
      ],
      "metadata": {
        "id": "cUCa0iHndfkB"
      },
      "execution_count": 56,
      "outputs": []
    },
    {
      "cell_type": "code",
      "source": [
        "# Compute Coherence Score\n",
        "coherence_model_lda = CoherenceModel(model=lda_model6, texts=df_stpremoved, dictionary=id2word, coherence='c_v')\n",
        "coherence_lda = coherence_model_lda.get_coherence()\n",
        "print('\\nCoherence Score: ', coherence_lda)"
      ],
      "metadata": {
        "colab": {
          "base_uri": "https://localhost:8080/"
        },
        "id": "OrMYBaCKeL1T",
        "outputId": "f5aac0af-8226-41dc-bf48-f3ea1ddcf7e2"
      },
      "execution_count": 58,
      "outputs": [
        {
          "output_type": "stream",
          "name": "stdout",
          "text": [
            "\n",
            "Coherence Score:  0.5394251469904519\n"
          ]
        }
      ]
    },
    {
      "cell_type": "code",
      "source": [
        "x = lda_model6.show_topics(formatted=False)\n",
        "topics_words = [(tp[0], [wd[0] for wd in tp[1]]) for tp in x]"
      ],
      "metadata": {
        "id": "rl66PiIteYxm"
      },
      "execution_count": 59,
      "outputs": []
    },
    {
      "cell_type": "code",
      "source": [
        "for topic,words in topics_words:\n",
        "    print(str(topic)+ \"::\"+ str(words))\n",
        "print()"
      ],
      "metadata": {
        "colab": {
          "base_uri": "https://localhost:8080/"
        },
        "id": "HwpLBZTkekCm",
        "outputId": "097e6182-90d5-4410-c5ff-ee21db01103b"
      },
      "execution_count": 60,
      "outputs": [
        {
          "output_type": "stream",
          "name": "stdout",
          "text": [
            "0::['phone', 'service', 'money', 'call', 'issue', 'Lenovo', 'network', 'device', 'problem', 'waste']\n",
            "1::['phone', 'camera', 'quality', 'price', 'feature', 'Camera', 'battery', 'performance', 'mode', 'range']\n",
            "2::['hai', 'Everything', 'ho', 'NOT', 'IS', 'PHONE', 'bhi', 'bill', 'AND', 'MOBILE']\n",
            "3::['note', 'Lenovo', 'phone', 'K8', 'k8', 'speaker', 'Note', 'music', 'Bluetooth', 'box']\n",
            "4::['product', 'phone', 'mobile', 'Nice', 'Amazon', 'battery', 'Awesome', 'Worst', 'Lenovo', 'delivery']\n",
            "5::['phone', 'battery', 'problem', 'issue', 'Battery', 'day', 'heating', 'performance', 'backup', 'hour']\n",
            "\n"
          ]
        }
      ]
    },
    {
      "cell_type": "code",
      "source": [
        "#Topic 1 can be Phone Issues\n",
        "#Topic 2 can be Phone range\n",
        "#Topic 3 can be Phone features\n",
        "#Topic 4 can be Phone Accessories\n",
        "#Topic 5 can be Phone Review\n",
        "#Topic 6 can be Phone problems"
      ],
      "metadata": {
        "id": "yu35YPspeoL_"
      },
      "execution_count": null,
      "outputs": []
    },
    {
      "cell_type": "code",
      "source": [
        ""
      ],
      "metadata": {
        "id": "kqS3tHV7fqsV"
      },
      "execution_count": null,
      "outputs": []
    }
  ]
}