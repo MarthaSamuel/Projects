{
 "cells": [
  {
   "cell_type": "markdown",
   "metadata": {},
   "source": [
    "Help Twitter Combat Hate Speech Using NLP and Machine Learning.\n",
    "\n",
    "Project 2\n",
    "\n",
    "DESCRIPTION\n",
    "\n",
    "Using NLP and ML, make a model to identify hate speech (racist or sexist tweets) in Twitter.\n",
    "\n",
    "Problem Statement:  \n",
    "\n",
    "Twitter is the biggest platform where anybody and everybody can have their views heard. Some of these voices spread hate and negativity. Twitter is wary of its platform being used as a medium  to spread hate. \n",
    "\n",
    "You are a data scientist at Twitter, and you will help Twitter in identifying the tweets with hate speech and removing them from the platform. You will use NLP techniques, perform specific cleanup for tweets data, and make a robust model.\n",
    "\n",
    "Domain: Social Media\n",
    "\n",
    "Analysis to be done: Clean up tweets and build a classification model by using NLP techniques, cleanup specific for tweets data, regularization and hyperparameter tuning using stratified k-fold and cross validation to get the best model.\n",
    "\n",
    "Content: \n",
    "\n",
    "id: identifier number of the tweet\n",
    "\n",
    "Label: 0 (non-hate) /1 (hate)\n",
    "\n",
    "Tweet: the text in the tweet\n",
    "\n",
    "Tasks: \n",
    "\n",
    "    Load the tweets file using read_csv function from Pandas package. \n",
    "\n",
    "    Get the tweets into a list for easy text cleanup and manipulation.\n",
    "\n",
    "    To cleanup: \n",
    "\n",
    "        Normalize the casing.\n",
    "\n",
    "        Using regular expressions, remove user handles. These begin with '@’.\n",
    "\n",
    "        Using regular expressions, remove URLs.\n",
    "\n",
    "        Using TweetTokenizer from NLTK, tokenize the tweets into individual terms.\n",
    "\n",
    "        Remove stop words.\n",
    "\n",
    "        Remove redundant terms like ‘amp’, ‘rt’, etc.\n",
    "\n",
    "        Remove ‘#’ symbols from the tweet while retaining the term.\n",
    "\n",
    "    Extra cleanup by removing terms with a length of 1.\n",
    "\n",
    "    Check out the top terms in the tweets:\n",
    "\n",
    "        First, get all the tokenized terms into one large list.\n",
    "\n",
    "        Use the counter and find the 10 most common terms.\n",
    "\n",
    "    Data formatting for predictive modeling:\n",
    "\n",
    "        Join the tokens back to form strings. This will be required for the vectorizers.\n",
    "\n",
    "        Assign x and y.\n",
    "\n",
    "        Perform train_test_split using sklearn.\n",
    "\n",
    "    We’ll use TF-IDF values for the terms as a feature to get into a vector space model.\n",
    "\n",
    "        Import TF-IDF  vectorizer from sklearn.\n",
    "\n",
    "        Instantiate with a maximum of 5000 terms in your vocabulary.\n",
    "\n",
    "        Fit and apply on the train set.\n",
    "\n",
    "        Apply on the test set.\n",
    "\n",
    "    Model building: Ordinary Logistic Regression\n",
    "\n",
    "        Instantiate Logistic Regression from sklearn with default parameters.\n",
    "\n",
    "        Fit into  the train data.\n",
    "\n",
    "        Make predictions for the train and the test set.\n",
    "\n",
    "    Model evaluation: Accuracy, recall, and f_1 score.\n",
    "\n",
    "        Report the accuracy on the train set.\n",
    "\n",
    "        Report the recall on the train set: decent, high, or low.\n",
    "\n",
    "        Get the f1 score on the train set.\n",
    "\n",
    "    Looks like you need to adjust the class imbalance, as the model seems to focus on the 0s.\n",
    "\n",
    "        Adjust the appropriate class in the LogisticRegression model.\n",
    "\n",
    "    Train again with the adjustment and evaluate.\n",
    "\n",
    "        Train the model on the train set.\n",
    "\n",
    "        Evaluate the predictions on the train set: accuracy, recall, and f_1 score.\n",
    "\n",
    "    Regularization and Hyperparameter tuning:\n",
    "\n",
    "        Import GridSearch and StratifiedKFold because of class imbalance.\n",
    "\n",
    "        Provide the parameter grid to choose for ‘C’ and ‘penalty’ parameters.\n",
    "\n",
    "        Use a balanced class weight while instantiating the logistic regression.\n",
    "\n",
    "    Find the parameters with the best recall in cross-validation.\n",
    "\n",
    "        Choose ‘recall’ as the metric for scoring.\n",
    "\n",
    "        Choose a stratified 4 fold cross-validation scheme.\n",
    "\n",
    "        Fit into  the train set.\n",
    "\n",
    "    What are the best parameters?\n",
    "\n",
    "    Predict and evaluate using the best estimator.\n",
    "\n",
    "        Use the best estimator from the grid search to make predictions on the test set.\n",
    "\n",
    "        What is the recall on the test set for the toxic comments?\n",
    "\n",
    "        What is the f_1 score?\n"
   ]
  },
  {
   "cell_type": "code",
   "execution_count": 1,
   "metadata": {},
   "outputs": [],
   "source": [
    "import nltk"
   ]
  },
  {
   "cell_type": "code",
   "execution_count": 2,
   "metadata": {},
   "outputs": [],
   "source": [
    "import pandas as pd \n",
    "import numpy as np\n",
    "from nltk.tokenize import word_tokenize\n",
    "from nltk.stem import WordNetLemmatizer\n",
    "import re, random, string, os"
   ]
  },
  {
   "cell_type": "code",
   "execution_count": 3,
   "metadata": {},
   "outputs": [
    {
     "name": "stderr",
     "output_type": "stream",
     "text": [
      "Using TensorFlow backend.\n",
      "/home/martha/anaconda3/lib/python3.7/site-packages/tensorflow/python/framework/dtypes.py:526: FutureWarning: Passing (type, 1) or '1type' as a synonym of type is deprecated; in a future version of numpy, it will be understood as (type, (1,)) / '(1,)type'.\n",
      "  _np_qint8 = np.dtype([(\"qint8\", np.int8, 1)])\n",
      "/home/martha/anaconda3/lib/python3.7/site-packages/tensorflow/python/framework/dtypes.py:527: FutureWarning: Passing (type, 1) or '1type' as a synonym of type is deprecated; in a future version of numpy, it will be understood as (type, (1,)) / '(1,)type'.\n",
      "  _np_quint8 = np.dtype([(\"quint8\", np.uint8, 1)])\n",
      "/home/martha/anaconda3/lib/python3.7/site-packages/tensorflow/python/framework/dtypes.py:528: FutureWarning: Passing (type, 1) or '1type' as a synonym of type is deprecated; in a future version of numpy, it will be understood as (type, (1,)) / '(1,)type'.\n",
      "  _np_qint16 = np.dtype([(\"qint16\", np.int16, 1)])\n",
      "/home/martha/anaconda3/lib/python3.7/site-packages/tensorflow/python/framework/dtypes.py:529: FutureWarning: Passing (type, 1) or '1type' as a synonym of type is deprecated; in a future version of numpy, it will be understood as (type, (1,)) / '(1,)type'.\n",
      "  _np_quint16 = np.dtype([(\"quint16\", np.uint16, 1)])\n",
      "/home/martha/anaconda3/lib/python3.7/site-packages/tensorflow/python/framework/dtypes.py:530: FutureWarning: Passing (type, 1) or '1type' as a synonym of type is deprecated; in a future version of numpy, it will be understood as (type, (1,)) / '(1,)type'.\n",
      "  _np_qint32 = np.dtype([(\"qint32\", np.int32, 1)])\n",
      "/home/martha/anaconda3/lib/python3.7/site-packages/tensorflow/python/framework/dtypes.py:535: FutureWarning: Passing (type, 1) or '1type' as a synonym of type is deprecated; in a future version of numpy, it will be understood as (type, (1,)) / '(1,)type'.\n",
      "  np_resource = np.dtype([(\"resource\", np.ubyte, 1)])\n"
     ]
    }
   ],
   "source": [
    "from nltk.corpus import stopwords\n",
    "from keras.preprocessing.text import Tokenizer\n",
    "from keras.preprocessing.sequence import pad_sequences\n",
    "from keras.layers import Embedding\n",
    "from keras.models import Sequential\n",
    "from sklearn.metrics import confusion_matrix, accuracy_score, classification_report"
   ]
  },
  {
   "cell_type": "code",
   "execution_count": 4,
   "metadata": {},
   "outputs": [],
   "source": [
    "from string import punctuation"
   ]
  },
  {
   "cell_type": "code",
   "execution_count": 5,
   "metadata": {},
   "outputs": [],
   "source": [
    "from nltk.tokenize import sent_tokenize\n",
    "from nltk.tokenize import WordPunctTokenizer\n",
    "from nltk.tokenize import TweetTokenizer\n",
    "from nltk.stem import WordNetLemmatizer\n",
    "from nltk.stem import PorterStemmer\n",
    "import matplotlib.pyplot as plt\n",
    "import seaborn as sns\n",
    "%matplotlib inline\n",
    "#for same sized plot\n",
    "from pylab import rcParams\n",
    "rcParams['figure.figsize']=12,5\n",
    "rcParams['axes.labelsize']=12\n",
    "rcParams['xtick.labelsize']=12\n",
    "rcParams['ytick.labelsize']=12\n",
    "#import warnings\n",
    "#warnings.filterwarnings(action='ignore', category=FutureWarningabs)"
   ]
  },
  {
   "cell_type": "code",
   "execution_count": 6,
   "metadata": {},
   "outputs": [],
   "source": [
    "dff=pd.read_csv('../course7/dataset/TwitterHate.csv')"
   ]
  },
  {
   "cell_type": "code",
   "execution_count": 7,
   "metadata": {},
   "outputs": [],
   "source": [
    "df=dff.copy()\n"
   ]
  },
  {
   "cell_type": "code",
   "execution_count": 8,
   "metadata": {},
   "outputs": [
    {
     "data": {
      "text/html": [
       "<div>\n",
       "<style scoped>\n",
       "    .dataframe tbody tr th:only-of-type {\n",
       "        vertical-align: middle;\n",
       "    }\n",
       "\n",
       "    .dataframe tbody tr th {\n",
       "        vertical-align: top;\n",
       "    }\n",
       "\n",
       "    .dataframe thead th {\n",
       "        text-align: right;\n",
       "    }\n",
       "</style>\n",
       "<table border=\"1\" class=\"dataframe\">\n",
       "  <thead>\n",
       "    <tr style=\"text-align: right;\">\n",
       "      <th></th>\n",
       "      <th>id</th>\n",
       "      <th>label</th>\n",
       "      <th>tweet</th>\n",
       "    </tr>\n",
       "  </thead>\n",
       "  <tbody>\n",
       "    <tr>\n",
       "      <th>0</th>\n",
       "      <td>1</td>\n",
       "      <td>0</td>\n",
       "      <td>@user when a father is dysfunctional and is s...</td>\n",
       "    </tr>\n",
       "    <tr>\n",
       "      <th>1</th>\n",
       "      <td>2</td>\n",
       "      <td>0</td>\n",
       "      <td>@user @user thanks for #lyft credit i can't us...</td>\n",
       "    </tr>\n",
       "    <tr>\n",
       "      <th>2</th>\n",
       "      <td>3</td>\n",
       "      <td>0</td>\n",
       "      <td>bihday your majesty</td>\n",
       "    </tr>\n",
       "    <tr>\n",
       "      <th>3</th>\n",
       "      <td>4</td>\n",
       "      <td>0</td>\n",
       "      <td>#model   i love u take with u all the time in ...</td>\n",
       "    </tr>\n",
       "    <tr>\n",
       "      <th>4</th>\n",
       "      <td>5</td>\n",
       "      <td>0</td>\n",
       "      <td>factsguide: society now    #motivation</td>\n",
       "    </tr>\n",
       "  </tbody>\n",
       "</table>\n",
       "</div>"
      ],
      "text/plain": [
       "   id  label                                              tweet\n",
       "0   1      0   @user when a father is dysfunctional and is s...\n",
       "1   2      0  @user @user thanks for #lyft credit i can't us...\n",
       "2   3      0                                bihday your majesty\n",
       "3   4      0  #model   i love u take with u all the time in ...\n",
       "4   5      0             factsguide: society now    #motivation"
      ]
     },
     "execution_count": 8,
     "metadata": {},
     "output_type": "execute_result"
    }
   ],
   "source": [
    "df.head()"
   ]
  },
  {
   "cell_type": "code",
   "execution_count": 9,
   "metadata": {},
   "outputs": [],
   "source": [
    "df.drop('id', axis=1, inplace=True)"
   ]
  },
  {
   "cell_type": "code",
   "execution_count": 10,
   "metadata": {},
   "outputs": [
    {
     "data": {
      "text/html": [
       "<div>\n",
       "<style scoped>\n",
       "    .dataframe tbody tr th:only-of-type {\n",
       "        vertical-align: middle;\n",
       "    }\n",
       "\n",
       "    .dataframe tbody tr th {\n",
       "        vertical-align: top;\n",
       "    }\n",
       "\n",
       "    .dataframe thead th {\n",
       "        text-align: right;\n",
       "    }\n",
       "</style>\n",
       "<table border=\"1\" class=\"dataframe\">\n",
       "  <thead>\n",
       "    <tr style=\"text-align: right;\">\n",
       "      <th></th>\n",
       "      <th>label</th>\n",
       "      <th>tweet</th>\n",
       "    </tr>\n",
       "  </thead>\n",
       "  <tbody>\n",
       "    <tr>\n",
       "      <th>0</th>\n",
       "      <td>0</td>\n",
       "      <td>@user when a father is dysfunctional and is s...</td>\n",
       "    </tr>\n",
       "    <tr>\n",
       "      <th>1</th>\n",
       "      <td>0</td>\n",
       "      <td>@user @user thanks for #lyft credit i can't us...</td>\n",
       "    </tr>\n",
       "    <tr>\n",
       "      <th>2</th>\n",
       "      <td>0</td>\n",
       "      <td>bihday your majesty</td>\n",
       "    </tr>\n",
       "    <tr>\n",
       "      <th>3</th>\n",
       "      <td>0</td>\n",
       "      <td>#model   i love u take with u all the time in ...</td>\n",
       "    </tr>\n",
       "    <tr>\n",
       "      <th>4</th>\n",
       "      <td>0</td>\n",
       "      <td>factsguide: society now    #motivation</td>\n",
       "    </tr>\n",
       "  </tbody>\n",
       "</table>\n",
       "</div>"
      ],
      "text/plain": [
       "   label                                              tweet\n",
       "0      0   @user when a father is dysfunctional and is s...\n",
       "1      0  @user @user thanks for #lyft credit i can't us...\n",
       "2      0                                bihday your majesty\n",
       "3      0  #model   i love u take with u all the time in ...\n",
       "4      0             factsguide: society now    #motivation"
      ]
     },
     "execution_count": 10,
     "metadata": {},
     "output_type": "execute_result"
    }
   ],
   "source": [
    "df.head()"
   ]
  },
  {
   "cell_type": "code",
   "execution_count": 11,
   "metadata": {},
   "outputs": [
    {
     "name": "stdout",
     "output_type": "stream",
     "text": [
      "20155\n"
     ]
    },
    {
     "data": {
      "text/plain": [
       "'america first before all others we should be ashamed of our selves. '"
      ]
     },
     "execution_count": 11,
     "metadata": {},
     "output_type": "execute_result"
    }
   ],
   "source": [
    "\n",
    "#to view tweet randomlly \n",
    "random=np.random.randint(0,len(df))\n",
    "print(random)\n",
    "df.iloc[random]['tweet']\n",
    "\n",
    "#ask"
   ]
  },
  {
   "cell_type": "code",
   "execution_count": 12,
   "metadata": {},
   "outputs": [
    {
     "data": {
      "text/plain": [
       "0    29720\n",
       "1     2242\n",
       "Name: label, dtype: int64"
      ]
     },
     "execution_count": 12,
     "metadata": {},
     "output_type": "execute_result"
    }
   ],
   "source": [
    "df['label'].value_counts()"
   ]
  },
  {
   "cell_type": "code",
   "execution_count": 13,
   "metadata": {},
   "outputs": [],
   "source": [
    "stopeng = stopwords.words('english')\n",
    "additional = ['rt', 'amp', \"can't\", 'u', 'ur']\n",
    "stopengp=stopeng  + additional + list(punctuation)\n",
    "#set().union(stopeng, punctuation, additional). can use for loop and append."
   ]
  },
  {
   "cell_type": "code",
   "execution_count": 14,
   "metadata": {},
   "outputs": [
    {
     "data": {
      "text/plain": [
       "['i',\n",
       " 'me',\n",
       " 'my',\n",
       " 'myself',\n",
       " 'we',\n",
       " 'our',\n",
       " 'ours',\n",
       " 'ourselves',\n",
       " 'you',\n",
       " \"you're\",\n",
       " \"you've\",\n",
       " \"you'll\",\n",
       " \"you'd\",\n",
       " 'your',\n",
       " 'yours',\n",
       " 'yourself',\n",
       " 'yourselves',\n",
       " 'he',\n",
       " 'him',\n",
       " 'his',\n",
       " 'himself',\n",
       " 'she',\n",
       " \"she's\",\n",
       " 'her',\n",
       " 'hers',\n",
       " 'herself',\n",
       " 'it',\n",
       " \"it's\",\n",
       " 'its',\n",
       " 'itself',\n",
       " 'they',\n",
       " 'them',\n",
       " 'their',\n",
       " 'theirs',\n",
       " 'themselves',\n",
       " 'what',\n",
       " 'which',\n",
       " 'who',\n",
       " 'whom',\n",
       " 'this',\n",
       " 'that',\n",
       " \"that'll\",\n",
       " 'these',\n",
       " 'those',\n",
       " 'am',\n",
       " 'is',\n",
       " 'are',\n",
       " 'was',\n",
       " 'were',\n",
       " 'be',\n",
       " 'been',\n",
       " 'being',\n",
       " 'have',\n",
       " 'has',\n",
       " 'had',\n",
       " 'having',\n",
       " 'do',\n",
       " 'does',\n",
       " 'did',\n",
       " 'doing',\n",
       " 'a',\n",
       " 'an',\n",
       " 'the',\n",
       " 'and',\n",
       " 'but',\n",
       " 'if',\n",
       " 'or',\n",
       " 'because',\n",
       " 'as',\n",
       " 'until',\n",
       " 'while',\n",
       " 'of',\n",
       " 'at',\n",
       " 'by',\n",
       " 'for',\n",
       " 'with',\n",
       " 'about',\n",
       " 'against',\n",
       " 'between',\n",
       " 'into',\n",
       " 'through',\n",
       " 'during',\n",
       " 'before',\n",
       " 'after',\n",
       " 'above',\n",
       " 'below',\n",
       " 'to',\n",
       " 'from',\n",
       " 'up',\n",
       " 'down',\n",
       " 'in',\n",
       " 'out',\n",
       " 'on',\n",
       " 'off',\n",
       " 'over',\n",
       " 'under',\n",
       " 'again',\n",
       " 'further',\n",
       " 'then',\n",
       " 'once',\n",
       " 'here',\n",
       " 'there',\n",
       " 'when',\n",
       " 'where',\n",
       " 'why',\n",
       " 'how',\n",
       " 'all',\n",
       " 'any',\n",
       " 'both',\n",
       " 'each',\n",
       " 'few',\n",
       " 'more',\n",
       " 'most',\n",
       " 'other',\n",
       " 'some',\n",
       " 'such',\n",
       " 'no',\n",
       " 'nor',\n",
       " 'not',\n",
       " 'only',\n",
       " 'own',\n",
       " 'same',\n",
       " 'so',\n",
       " 'than',\n",
       " 'too',\n",
       " 'very',\n",
       " 's',\n",
       " 't',\n",
       " 'can',\n",
       " 'will',\n",
       " 'just',\n",
       " 'don',\n",
       " \"don't\",\n",
       " 'should',\n",
       " \"should've\",\n",
       " 'now',\n",
       " 'd',\n",
       " 'll',\n",
       " 'm',\n",
       " 'o',\n",
       " 're',\n",
       " 've',\n",
       " 'y',\n",
       " 'ain',\n",
       " 'aren',\n",
       " \"aren't\",\n",
       " 'couldn',\n",
       " \"couldn't\",\n",
       " 'didn',\n",
       " \"didn't\",\n",
       " 'doesn',\n",
       " \"doesn't\",\n",
       " 'hadn',\n",
       " \"hadn't\",\n",
       " 'hasn',\n",
       " \"hasn't\",\n",
       " 'haven',\n",
       " \"haven't\",\n",
       " 'isn',\n",
       " \"isn't\",\n",
       " 'ma',\n",
       " 'mightn',\n",
       " \"mightn't\",\n",
       " 'mustn',\n",
       " \"mustn't\",\n",
       " 'needn',\n",
       " \"needn't\",\n",
       " 'shan',\n",
       " \"shan't\",\n",
       " 'shouldn',\n",
       " \"shouldn't\",\n",
       " 'wasn',\n",
       " \"wasn't\",\n",
       " 'weren',\n",
       " \"weren't\",\n",
       " 'won',\n",
       " \"won't\",\n",
       " 'wouldn',\n",
       " \"wouldn't\",\n",
       " 'rt',\n",
       " 'amp',\n",
       " \"can't\",\n",
       " 'u',\n",
       " 'ur',\n",
       " '!',\n",
       " '\"',\n",
       " '#',\n",
       " '$',\n",
       " '%',\n",
       " '&',\n",
       " \"'\",\n",
       " '(',\n",
       " ')',\n",
       " '*',\n",
       " '+',\n",
       " ',',\n",
       " '-',\n",
       " '.',\n",
       " '/',\n",
       " ':',\n",
       " ';',\n",
       " '<',\n",
       " '=',\n",
       " '>',\n",
       " '?',\n",
       " '@',\n",
       " '[',\n",
       " '\\\\',\n",
       " ']',\n",
       " '^',\n",
       " '_',\n",
       " '`',\n",
       " '{',\n",
       " '|',\n",
       " '}',\n",
       " '~']"
      ]
     },
     "execution_count": 14,
     "metadata": {},
     "output_type": "execute_result"
    }
   ],
   "source": [
    "stopengp"
   ]
  },
  {
   "cell_type": "code",
   "execution_count": 15,
   "metadata": {},
   "outputs": [
    {
     "data": {
      "text/plain": [
       "31962"
      ]
     },
     "execution_count": 15,
     "metadata": {},
     "output_type": "execute_result"
    }
   ],
   "source": [
    "twt=df.tweet.values\n",
    "len(twt)"
   ]
  },
  {
   "cell_type": "code",
   "execution_count": 16,
   "metadata": {},
   "outputs": [],
   "source": [
    "#tweetdata=[]\n",
    "def workit(tw):\n",
    "    tweetlow=[i.lower() for i in tw]\n",
    "    tweetnouser=[re.sub('@\\w+',' ', i) for i in tweetlow]\n",
    "    tweetnourl=[re.sub('\\w+://\\S+', ' ', i) for i in tweetnouser]\n",
    "    tweetnohash=[re.sub('#|[^A-Za-z]+',' ', i) for i in tweetnourl]\n",
    "    tweettoken=[i.split() for i in tweetnohash]#word_tokenize(tweet)\n",
    "    tweet=[t for t in tweettoken if t not in stopengp]\n",
    "    tweet =[now for now in tweet\n",
    "                    if not len(now) == 1]\n",
    "    \n",
    "    print(tweet)\n",
    "    \n",
    "    #tweetdata.append(tweetnow)"
   ]
  },
  {
   "cell_type": "code",
   "execution_count": 17,
   "metadata": {},
   "outputs": [
    {
     "name": "stderr",
     "output_type": "stream",
     "text": [
      "IOPub data rate exceeded.\n",
      "The notebook server will temporarily stop sending output\n",
      "to the client in order to avoid crashing it.\n",
      "To change this limit, set the config variable\n",
      "`--NotebookApp.iopub_data_rate_limit`.\n",
      "\n",
      "Current values:\n",
      "NotebookApp.iopub_data_rate_limit=1000000.0 (bytes/sec)\n",
      "NotebookApp.rate_limit_window=3.0 (secs)\n",
      "\n"
     ]
    }
   ],
   "source": [
    "#df['twet']=df.tweet.values.map(lambda x: workit(x))\n",
    "df['twi']=workit(twt)\n",
    "\n",
    "\n",
    "#If it gives error expecting a string, apply(str), eg say \n",
    "#df['tweet']=df['tweet'].apply(str)"
   ]
  },
  {
   "cell_type": "code",
   "execution_count": 18,
   "metadata": {},
   "outputs": [],
   "source": [
    "#clean up\n",
    "twtlow=[i.lower() for i in df.tweet.values]\n",
    "df['tweet']=twtlow \n",
    "df.drop('twi', axis=1, inplace=True)"
   ]
  },
  {
   "cell_type": "code",
   "execution_count": 19,
   "metadata": {},
   "outputs": [
    {
     "data": {
      "text/html": [
       "<div>\n",
       "<style scoped>\n",
       "    .dataframe tbody tr th:only-of-type {\n",
       "        vertical-align: middle;\n",
       "    }\n",
       "\n",
       "    .dataframe tbody tr th {\n",
       "        vertical-align: top;\n",
       "    }\n",
       "\n",
       "    .dataframe thead th {\n",
       "        text-align: right;\n",
       "    }\n",
       "</style>\n",
       "<table border=\"1\" class=\"dataframe\">\n",
       "  <thead>\n",
       "    <tr style=\"text-align: right;\">\n",
       "      <th></th>\n",
       "      <th>label</th>\n",
       "      <th>tweet</th>\n",
       "    </tr>\n",
       "  </thead>\n",
       "  <tbody>\n",
       "    <tr>\n",
       "      <th>31957</th>\n",
       "      <td>0</td>\n",
       "      <td>ate @user isz that youuu?ðððððð...</td>\n",
       "    </tr>\n",
       "    <tr>\n",
       "      <th>31958</th>\n",
       "      <td>0</td>\n",
       "      <td>to see nina turner on the airwaves trying to...</td>\n",
       "    </tr>\n",
       "    <tr>\n",
       "      <th>31959</th>\n",
       "      <td>0</td>\n",
       "      <td>listening to sad songs on a monday morning otw...</td>\n",
       "    </tr>\n",
       "    <tr>\n",
       "      <th>31960</th>\n",
       "      <td>1</td>\n",
       "      <td>@user #sikh #temple vandalised in in #calgary,...</td>\n",
       "    </tr>\n",
       "    <tr>\n",
       "      <th>31961</th>\n",
       "      <td>0</td>\n",
       "      <td>thank you @user for you follow</td>\n",
       "    </tr>\n",
       "  </tbody>\n",
       "</table>\n",
       "</div>"
      ],
      "text/plain": [
       "       label                                              tweet\n",
       "31957      0  ate @user isz that youuu?ðððððð...\n",
       "31958      0    to see nina turner on the airwaves trying to...\n",
       "31959      0  listening to sad songs on a monday morning otw...\n",
       "31960      1  @user #sikh #temple vandalised in in #calgary,...\n",
       "31961      0                   thank you @user for you follow  "
      ]
     },
     "execution_count": 19,
     "metadata": {},
     "output_type": "execute_result"
    }
   ],
   "source": [
    "df.tail()"
   ]
  },
  {
   "cell_type": "code",
   "execution_count": 20,
   "metadata": {},
   "outputs": [],
   "source": [
    "tweetnouser=[re.sub('@\\w+',' ', i) for i in twtlow]"
   ]
  },
  {
   "cell_type": "code",
   "execution_count": 21,
   "metadata": {},
   "outputs": [
    {
     "data": {
      "text/plain": [
       "['   when a father is dysfunctional and is so selfish he drags his kids into his dysfunction.   #run',\n",
       " \"    thanks for #lyft credit i can't use cause they don't offer wheelchair vans in pdx.    #disapointed #getthanked\",\n",
       " '  bihday your majesty']"
      ]
     },
     "execution_count": 21,
     "metadata": {},
     "output_type": "execute_result"
    }
   ],
   "source": [
    "tweetnouser[:3]"
   ]
  },
  {
   "cell_type": "code",
   "execution_count": 22,
   "metadata": {},
   "outputs": [],
   "source": [
    "tweetnourl=[re.sub('\\w+://\\S+', ' ', i) for i in tweetnouser]"
   ]
  },
  {
   "cell_type": "code",
   "execution_count": 23,
   "metadata": {},
   "outputs": [],
   "source": [
    "tweetnohash=[re.sub('#|[^A-Za-z]+',' ', i) for i in tweetnourl]"
   ]
  },
  {
   "cell_type": "code",
   "execution_count": 24,
   "metadata": {},
   "outputs": [],
   "source": [
    "tweettoken=[word_tokenize(i) for i in tweetnohash]"
   ]
  },
  {
   "cell_type": "code",
   "execution_count": 25,
   "metadata": {},
   "outputs": [
    {
     "data": {
      "text/plain": [
       "[['when',\n",
       "  'a',\n",
       "  'father',\n",
       "  'is',\n",
       "  'dysfunctional',\n",
       "  'and',\n",
       "  'is',\n",
       "  'so',\n",
       "  'selfish',\n",
       "  'he',\n",
       "  'drags',\n",
       "  'his',\n",
       "  'kids',\n",
       "  'into',\n",
       "  'his',\n",
       "  'dysfunction',\n",
       "  'run'],\n",
       " ['thanks',\n",
       "  'for',\n",
       "  'lyft',\n",
       "  'credit',\n",
       "  'i',\n",
       "  'can',\n",
       "  't',\n",
       "  'use',\n",
       "  'cause',\n",
       "  'they',\n",
       "  'don',\n",
       "  't',\n",
       "  'offer',\n",
       "  'wheelchair',\n",
       "  'vans',\n",
       "  'in',\n",
       "  'pdx',\n",
       "  'disapointed',\n",
       "  'getthanked'],\n",
       " ['bihday', 'your', 'majesty'],\n",
       " ['model',\n",
       "  'i',\n",
       "  'love',\n",
       "  'u',\n",
       "  'take',\n",
       "  'with',\n",
       "  'u',\n",
       "  'all',\n",
       "  'the',\n",
       "  'time',\n",
       "  'in',\n",
       "  'ur'],\n",
       " ['factsguide', 'society', 'now', 'motivation']]"
      ]
     },
     "execution_count": 25,
     "metadata": {},
     "output_type": "execute_result"
    }
   ],
   "source": [
    "tweettoken[:5]"
   ]
  },
  {
   "cell_type": "code",
   "execution_count": 26,
   "metadata": {},
   "outputs": [],
   "source": [
    "df['tweet']=tweettoken"
   ]
  },
  {
   "cell_type": "code",
   "execution_count": 27,
   "metadata": {},
   "outputs": [
    {
     "data": {
      "text/html": [
       "<div>\n",
       "<style scoped>\n",
       "    .dataframe tbody tr th:only-of-type {\n",
       "        vertical-align: middle;\n",
       "    }\n",
       "\n",
       "    .dataframe tbody tr th {\n",
       "        vertical-align: top;\n",
       "    }\n",
       "\n",
       "    .dataframe thead th {\n",
       "        text-align: right;\n",
       "    }\n",
       "</style>\n",
       "<table border=\"1\" class=\"dataframe\">\n",
       "  <thead>\n",
       "    <tr style=\"text-align: right;\">\n",
       "      <th></th>\n",
       "      <th>label</th>\n",
       "      <th>tweet</th>\n",
       "    </tr>\n",
       "  </thead>\n",
       "  <tbody>\n",
       "    <tr>\n",
       "      <th>0</th>\n",
       "      <td>0</td>\n",
       "      <td>[when, a, father, is, dysfunctional, and, is, ...</td>\n",
       "    </tr>\n",
       "    <tr>\n",
       "      <th>1</th>\n",
       "      <td>0</td>\n",
       "      <td>[thanks, for, lyft, credit, i, can, t, use, ca...</td>\n",
       "    </tr>\n",
       "    <tr>\n",
       "      <th>2</th>\n",
       "      <td>0</td>\n",
       "      <td>[bihday, your, majesty]</td>\n",
       "    </tr>\n",
       "    <tr>\n",
       "      <th>3</th>\n",
       "      <td>0</td>\n",
       "      <td>[model, i, love, u, take, with, u, all, the, t...</td>\n",
       "    </tr>\n",
       "    <tr>\n",
       "      <th>4</th>\n",
       "      <td>0</td>\n",
       "      <td>[factsguide, society, now, motivation]</td>\n",
       "    </tr>\n",
       "  </tbody>\n",
       "</table>\n",
       "</div>"
      ],
      "text/plain": [
       "   label                                              tweet\n",
       "0      0  [when, a, father, is, dysfunctional, and, is, ...\n",
       "1      0  [thanks, for, lyft, credit, i, can, t, use, ca...\n",
       "2      0                            [bihday, your, majesty]\n",
       "3      0  [model, i, love, u, take, with, u, all, the, t...\n",
       "4      0             [factsguide, society, now, motivation]"
      ]
     },
     "execution_count": 27,
     "metadata": {},
     "output_type": "execute_result"
    }
   ],
   "source": [
    "df.head()"
   ]
  },
  {
   "cell_type": "code",
   "execution_count": 28,
   "metadata": {},
   "outputs": [
    {
     "data": {
      "text/plain": [
       "0    [father, dysfunctional, selfish, drags, kids, ...\n",
       "1    [thanks, lyft, credit, use, cause, offer, whee...\n",
       "2                                    [bihday, majesty]\n",
       "3                            [model, love, take, time]\n",
       "4                    [factsguide, society, motivation]\n",
       "Name: tweet, dtype: object"
      ]
     },
     "execution_count": 28,
     "metadata": {},
     "output_type": "execute_result"
    }
   ],
   "source": [
    "def nostop(text):\n",
    "    done = [word for word in text if word not in stopengp]\n",
    "    return done\n",
    "\n",
    "df['tweet']=df['tweet'].apply(nostop)\n",
    "df['tweet'].head()"
   ]
  },
  {
   "cell_type": "code",
   "execution_count": 29,
   "metadata": {},
   "outputs": [
    {
     "data": {
      "text/plain": [
       "['month',\n",
       " 'completed',\n",
       " 'beautiful',\n",
       " 'relationship',\n",
       " 'may',\n",
       " 'always',\n",
       " 'b',\n",
       " 'stay',\n",
       " 'together']"
      ]
     },
     "execution_count": 29,
     "metadata": {},
     "output_type": "execute_result"
    }
   ],
   "source": [
    "df['tweet'][14933]"
   ]
  },
  {
   "cell_type": "code",
   "execution_count": 30,
   "metadata": {},
   "outputs": [
    {
     "data": {
      "text/html": [
       "<div>\n",
       "<style scoped>\n",
       "    .dataframe tbody tr th:only-of-type {\n",
       "        vertical-align: middle;\n",
       "    }\n",
       "\n",
       "    .dataframe tbody tr th {\n",
       "        vertical-align: top;\n",
       "    }\n",
       "\n",
       "    .dataframe thead th {\n",
       "        text-align: right;\n",
       "    }\n",
       "</style>\n",
       "<table border=\"1\" class=\"dataframe\">\n",
       "  <thead>\n",
       "    <tr style=\"text-align: right;\">\n",
       "      <th></th>\n",
       "      <th>label</th>\n",
       "      <th>tweet</th>\n",
       "    </tr>\n",
       "  </thead>\n",
       "  <tbody>\n",
       "    <tr>\n",
       "      <th>0</th>\n",
       "      <td>0</td>\n",
       "      <td>[father, dysfunctional, selfish, drags, kids, ...</td>\n",
       "    </tr>\n",
       "    <tr>\n",
       "      <th>1</th>\n",
       "      <td>0</td>\n",
       "      <td>[thanks, lyft, credit, use, cause, offer, whee...</td>\n",
       "    </tr>\n",
       "    <tr>\n",
       "      <th>2</th>\n",
       "      <td>0</td>\n",
       "      <td>[bihday, majesty]</td>\n",
       "    </tr>\n",
       "    <tr>\n",
       "      <th>3</th>\n",
       "      <td>0</td>\n",
       "      <td>[model, love, take, time]</td>\n",
       "    </tr>\n",
       "    <tr>\n",
       "      <th>4</th>\n",
       "      <td>0</td>\n",
       "      <td>[factsguide, society, motivation]</td>\n",
       "    </tr>\n",
       "  </tbody>\n",
       "</table>\n",
       "</div>"
      ],
      "text/plain": [
       "   label                                              tweet\n",
       "0      0  [father, dysfunctional, selfish, drags, kids, ...\n",
       "1      0  [thanks, lyft, credit, use, cause, offer, whee...\n",
       "2      0                                  [bihday, majesty]\n",
       "3      0                          [model, love, take, time]\n",
       "4      0                  [factsguide, society, motivation]"
      ]
     },
     "execution_count": 30,
     "metadata": {},
     "output_type": "execute_result"
    }
   ],
   "source": [
    "df.head()"
   ]
  },
  {
   "cell_type": "code",
   "execution_count": null,
   "metadata": {},
   "outputs": [],
   "source": []
  },
  {
   "cell_type": "code",
   "execution_count": 31,
   "metadata": {},
   "outputs": [
    {
     "data": {
      "text/plain": [
       "['month',\n",
       " 'completed',\n",
       " 'beautiful',\n",
       " 'relationship',\n",
       " 'may',\n",
       " 'always',\n",
       " 'stay',\n",
       " 'together']"
      ]
     },
     "execution_count": 31,
     "metadata": {},
     "output_type": "execute_result"
    }
   ],
   "source": [
    "def remove_short(text):\n",
    "    lenght=[1]\n",
    "    text=[word for word in text if not len(word) in lenght]#if len(word) != 1\n",
    "    return text\n",
    "    \n",
    "df['tweet']=df['tweet'].apply(remove_short)\n",
    "df['tweet'][14933]"
   ]
  },
  {
   "cell_type": "code",
   "execution_count": 32,
   "metadata": {},
   "outputs": [
    {
     "data": {
      "text/html": [
       "<div>\n",
       "<style scoped>\n",
       "    .dataframe tbody tr th:only-of-type {\n",
       "        vertical-align: middle;\n",
       "    }\n",
       "\n",
       "    .dataframe tbody tr th {\n",
       "        vertical-align: top;\n",
       "    }\n",
       "\n",
       "    .dataframe thead th {\n",
       "        text-align: right;\n",
       "    }\n",
       "</style>\n",
       "<table border=\"1\" class=\"dataframe\">\n",
       "  <thead>\n",
       "    <tr style=\"text-align: right;\">\n",
       "      <th></th>\n",
       "      <th>label</th>\n",
       "      <th>tweet</th>\n",
       "    </tr>\n",
       "  </thead>\n",
       "  <tbody>\n",
       "    <tr>\n",
       "      <th>0</th>\n",
       "      <td>0</td>\n",
       "      <td>[father, dysfunctional, selfish, drags, kids, ...</td>\n",
       "    </tr>\n",
       "    <tr>\n",
       "      <th>1</th>\n",
       "      <td>0</td>\n",
       "      <td>[thanks, lyft, credit, use, cause, offer, whee...</td>\n",
       "    </tr>\n",
       "    <tr>\n",
       "      <th>2</th>\n",
       "      <td>0</td>\n",
       "      <td>[bihday, majesty]</td>\n",
       "    </tr>\n",
       "    <tr>\n",
       "      <th>3</th>\n",
       "      <td>0</td>\n",
       "      <td>[model, love, take, time]</td>\n",
       "    </tr>\n",
       "    <tr>\n",
       "      <th>4</th>\n",
       "      <td>0</td>\n",
       "      <td>[factsguide, society, motivation]</td>\n",
       "    </tr>\n",
       "  </tbody>\n",
       "</table>\n",
       "</div>"
      ],
      "text/plain": [
       "   label                                              tweet\n",
       "0      0  [father, dysfunctional, selfish, drags, kids, ...\n",
       "1      0  [thanks, lyft, credit, use, cause, offer, whee...\n",
       "2      0                                  [bihday, majesty]\n",
       "3      0                          [model, love, take, time]\n",
       "4      0                  [factsguide, society, motivation]"
      ]
     },
     "execution_count": 32,
     "metadata": {},
     "output_type": "execute_result"
    }
   ],
   "source": [
    "df.head()"
   ]
  },
  {
   "cell_type": "code",
   "execution_count": 33,
   "metadata": {},
   "outputs": [
    {
     "data": {
      "image/png": "[encoded data removed]",
      "text/plain": [
       "<Figure size 864x360 with 1 Axes>"
      ]
     },
     "metadata": {
      "needs_background": "light"
     },
     "output_type": "display_data"
    }
   ],
   "source": [
    "#Exploratory data analysis \n",
    "sns.countplot(df['label'])\n",
    "plt.title('count for data balance: Non-Hate vs Hate')\n",
    "plt.grid() \n",
    "plt.show()"
   ]
  },
  {
   "cell_type": "code",
   "execution_count": 34,
   "metadata": {},
   "outputs": [
    {
     "name": "stdout",
     "output_type": "stream",
     "text": [
      "[('love', 2828), ('day', 2393), ('happy', 1707), ('like', 1180), ('life', 1176), ('time', 1150), ('today', 1095), ('new', 1003), ('thankful', 952), ('positive', 937)]\n"
     ]
    }
   ],
   "source": [
    "from collections import Counter\n",
    "results = Counter()\n",
    "df['tweet'].apply(results.update)\n",
    "print(results.most_common(10))"
   ]
  },
  {
   "cell_type": "code",
   "execution_count": 35,
   "metadata": {},
   "outputs": [
    {
     "data": {
      "image/png": "[encoded data removed]",
      "text/plain": [
       "<Figure size 864x360 with 1 Axes>"
      ]
     },
     "metadata": {
      "needs_background": "light"
     },
     "output_type": "display_data"
    }
   ],
   "source": [
    "plt.title('top 10 most common terms')\n",
    "frequency = nltk.FreqDist(results)\n",
    "frequency.plot(10,cumulative=True)\n",
    "plt.show()"
   ]
  },
  {
   "cell_type": "code",
   "execution_count": 36,
   "metadata": {},
   "outputs": [
    {
     "data": {
      "image/png": "[encoded data removed]",
      "text/plain": [
       "<Figure size 864x360 with 1 Axes>"
      ]
     },
     "metadata": {
      "needs_background": "light"
     },
     "output_type": "display_data"
    }
   ],
   "source": [
    "plt.title('top 10 most common terms')\n",
    "frequency = nltk.FreqDist(results)\n",
    "frequency.plot(10,cumulative=False)\n",
    "plt.show()"
   ]
  },
  {
   "cell_type": "code",
   "execution_count": 37,
   "metadata": {},
   "outputs": [
    {
     "data": {
      "text/plain": [
       "label    0\n",
       "tweet    0\n",
       "dtype: int64"
      ]
     },
     "execution_count": 37,
     "metadata": {},
     "output_type": "execute_result"
    }
   ],
   "source": [
    "df.isnull().sum()"
   ]
  },
  {
   "cell_type": "code",
   "execution_count": 38,
   "metadata": {},
   "outputs": [
    {
     "data": {
      "text/html": [
       "<div>\n",
       "<style scoped>\n",
       "    .dataframe tbody tr th:only-of-type {\n",
       "        vertical-align: middle;\n",
       "    }\n",
       "\n",
       "    .dataframe tbody tr th {\n",
       "        vertical-align: top;\n",
       "    }\n",
       "\n",
       "    .dataframe thead th {\n",
       "        text-align: right;\n",
       "    }\n",
       "</style>\n",
       "<table border=\"1\" class=\"dataframe\">\n",
       "  <thead>\n",
       "    <tr style=\"text-align: right;\">\n",
       "      <th></th>\n",
       "      <th>label</th>\n",
       "      <th>tweet</th>\n",
       "    </tr>\n",
       "  </thead>\n",
       "  <tbody>\n",
       "    <tr>\n",
       "      <th>0</th>\n",
       "      <td>0</td>\n",
       "      <td>father dysfunctional selfish drags kids dysfun...</td>\n",
       "    </tr>\n",
       "    <tr>\n",
       "      <th>1</th>\n",
       "      <td>0</td>\n",
       "      <td>thanks lyft credit use cause offer wheelchair ...</td>\n",
       "    </tr>\n",
       "    <tr>\n",
       "      <th>2</th>\n",
       "      <td>0</td>\n",
       "      <td>bihday majesty</td>\n",
       "    </tr>\n",
       "    <tr>\n",
       "      <th>3</th>\n",
       "      <td>0</td>\n",
       "      <td>model love take time</td>\n",
       "    </tr>\n",
       "    <tr>\n",
       "      <th>4</th>\n",
       "      <td>0</td>\n",
       "      <td>factsguide society motivation</td>\n",
       "    </tr>\n",
       "  </tbody>\n",
       "</table>\n",
       "</div>"
      ],
      "text/plain": [
       "   label                                              tweet\n",
       "0      0  father dysfunctional selfish drags kids dysfun...\n",
       "1      0  thanks lyft credit use cause offer wheelchair ...\n",
       "2      0                                     bihday majesty\n",
       "3      0                               model love take time\n",
       "4      0                      factsguide society motivation"
      ]
     },
     "execution_count": 38,
     "metadata": {},
     "output_type": "execute_result"
    }
   ],
   "source": [
    "df['tweet']=df['tweet'].apply(lambda x: ' '.join(x))\n",
    "df.head()"
   ]
  },
  {
   "cell_type": "code",
   "execution_count": 39,
   "metadata": {},
   "outputs": [],
   "source": [
    "X=df['tweet']\n",
    "y=df['label']\n"
   ]
  },
  {
   "cell_type": "code",
   "execution_count": 40,
   "metadata": {},
   "outputs": [
    {
     "name": "stdout",
     "output_type": "stream",
     "text": [
      "(23971,) (7991,) (23971,) (7991,)\n"
     ]
    }
   ],
   "source": [
    "from sklearn.model_selection import train_test_split\n",
    "\n",
    "X_train, X_test, y_train, y_test=train_test_split(X, y, test_size=0.25, random_state=20, stratify=df['label'])\n",
    "print(X_train.shape, X_test.shape, y_train.shape, y_test.shape)"
   ]
  },
  {
   "cell_type": "code",
   "execution_count": 41,
   "metadata": {},
   "outputs": [
    {
     "data": {
      "text/plain": [
       "'0.22.1'"
      ]
     },
     "execution_count": 41,
     "metadata": {},
     "output_type": "execute_result"
    }
   ],
   "source": [
    "import sklearn\n",
    "sklearn.__version__"
   ]
  },
  {
   "cell_type": "code",
   "execution_count": 42,
   "metadata": {},
   "outputs": [],
   "source": [
    "from sklearn.feature_extraction.text import TfidfVectorizer\n",
    "from sklearn.feature_extraction.text import TfidfTransformer\n",
    "\n",
    "vectorizer = TfidfVectorizer(max_features=5000)"
   ]
  },
  {
   "cell_type": "code",
   "execution_count": 43,
   "metadata": {},
   "outputs": [],
   "source": [
    "X_train=vectorizer.fit_transform(X_train) \n",
    "X_test = vectorizer.fit_transform(X_test)\n"
   ]
  },
  {
   "cell_type": "code",
   "execution_count": 44,
   "metadata": {},
   "outputs": [
    {
     "data": {
      "text/plain": [
       "((23971, 5000), (7991, 5000))"
      ]
     },
     "execution_count": 44,
     "metadata": {},
     "output_type": "execute_result"
    }
   ],
   "source": [
    "X_train.shape, X_test.shape"
   ]
  },
  {
   "cell_type": "code",
   "execution_count": 45,
   "metadata": {},
   "outputs": [
    {
     "name": "stdout",
     "output_type": "stream",
     "text": [
      "Train accuracy: 0.9555\n",
      "Test accuracy: 0.9283\n"
     ]
    }
   ],
   "source": [
    "from sklearn.linear_model import LogisticRegression\n",
    "from sklearn.naive_bayes import MultinomialNB\n",
    "from sklearn.metrics import accuracy_score, f1_score, classification_report, confusion_matrix\n",
    "\n",
    "clf=LogisticRegression()\n",
    "clf.fit(X_train, y_train)\n",
    "train_pred = clf.predict(X_train)\n",
    "test_pred = clf.predict(X_test)\n",
    "\n",
    "print('Train accuracy: %.4f' %accuracy_score(y_train, train_pred))\n",
    "print('Test accuracy: %.4f' %accuracy_score(y_test, test_pred))"
   ]
  },
  {
   "cell_type": "code",
   "execution_count": 46,
   "metadata": {},
   "outputs": [
    {
     "name": "stdout",
     "output_type": "stream",
     "text": [
      "Classification Report \n",
      "\n",
      "              precision    recall  f1-score   support\n",
      "\n",
      "           0       0.96      1.00      0.98     22290\n",
      "           1       0.95      0.38      0.55      1681\n",
      "\n",
      "    accuracy                           0.96     23971\n",
      "   macro avg       0.95      0.69      0.76     23971\n",
      "weighted avg       0.96      0.96      0.95     23971\n",
      "\n"
     ]
    }
   ],
   "source": [
    "#since data is imbalanced, accuracy might not be true enough, we look at f1.if f1 is low, the model is poor\n",
    "print('Classification Report \\n')\n",
    "print(classification_report(y_train, train_pred))"
   ]
  },
  {
   "cell_type": "code",
   "execution_count": 47,
   "metadata": {},
   "outputs": [
    {
     "name": "stdout",
     "output_type": "stream",
     "text": [
      "Classification Report \n",
      "\n",
      "              precision    recall  f1-score   support\n",
      "\n",
      "           0       0.93      1.00      0.96      7430\n",
      "           1       0.00      0.00      0.00       561\n",
      "\n",
      "    accuracy                           0.93      7991\n",
      "   macro avg       0.46      0.50      0.48      7991\n",
      "weighted avg       0.86      0.93      0.90      7991\n",
      "\n"
     ]
    }
   ],
   "source": [
    "print('Classification Report \\n')\n",
    "print(classification_report(y_test, test_pred))"
   ]
  },
  {
   "cell_type": "code",
   "execution_count": 49,
   "metadata": {},
   "outputs": [
    {
     "name": "stdout",
     "output_type": "stream",
     "text": [
      "Classification Report for Training  \n",
      "\n",
      "              precision    recall  f1-score   support\n",
      "\n",
      "           0       1.00      0.95      0.98     22290\n",
      "           1       0.61      0.98      0.75      1681\n",
      "\n",
      "    accuracy                           0.95     23971\n",
      "   macro avg       0.80      0.97      0.86     23971\n",
      "weighted avg       0.97      0.95      0.96     23971\n",
      " \n",
      "\n",
      "Classification Report for Test \n",
      "\n",
      "              precision    recall  f1-score   support\n",
      "\n",
      "           0       0.93      0.87      0.90      7430\n",
      "           1       0.09      0.17      0.11       561\n",
      "\n",
      "    accuracy                           0.82      7991\n",
      "   macro avg       0.51      0.52      0.51      7991\n",
      "weighted avg       0.87      0.82      0.84      7991\n",
      "\n"
     ]
    }
   ],
   "source": [
    "#using weighted Log Regr or Cost Sensitive Log Regr \n",
    "\n",
    "#since ratio of class label 0 to 1 is 13:1 \n",
    "# we define the weight of the class label using inverse ratio \n",
    "weights = {0:1.0, 1:13.0}\n",
    "\n",
    "#instantiate the log regr model and account for the weights to be applied for model coeffs update magnitude \n",
    "\n",
    "clf = LogisticRegression(solver='lbfgs', class_weight = weights) \n",
    "\n",
    "clf.fit(X_train, y_train) \n",
    "train_pred = clf.predict(X_train)\n",
    "test_pred = clf.predict(X_test)\n",
    "\n",
    "print('Classification Report for Training ','\\n')\n",
    "print(classification_report(y_train, train_pred),'\\n')\n",
    "print('Classification Report for Test \\n') \n",
    "print(classification_report(y_test, test_pred))"
   ]
  },
  {
   "cell_type": "code",
   "execution_count": 50,
   "metadata": {},
   "outputs": [],
   "source": [
    "#we can try another model or add synthetic data to imbalanced data to get even better result"
   ]
  },
  {
   "cell_type": "code",
   "execution_count": 51,
   "metadata": {},
   "outputs": [],
   "source": [
    "#Regularization and Hyperparameter tuning \n",
    "\n",
    "from sklearn.model_selection import RandomizedSearchCV\n",
    "from sklearn.model_selection import StratifiedKFold\n",
    "from sklearn.model_selection import cross_val_score"
   ]
  },
  {
   "cell_type": "code",
   "execution_count": 53,
   "metadata": {},
   "outputs": [],
   "source": [
    "#def search space\n",
    "from scipy.stats import loguniform\n",
    "space =dict()\n",
    "space['solver'] = ['newton-cg', 'lbfgs', 'liblinear']\n",
    "space['penalty'] = ['l1','l2', 'elasticnet'] \n",
    "space['C'] = loguniform(1e-5, 100)"
   ]
  },
  {
   "cell_type": "code",
   "execution_count": 54,
   "metadata": {},
   "outputs": [
    {
     "data": {
      "text/plain": [
       "{'solver': ['newton-cg', 'lbfgs', 'liblinear'],\n",
       " 'penalty': ['l1', 'l2', 'elasticnet'],\n",
       " 'C': <scipy.stats._distn_infrastructure.rv_frozen at 0x7f9f1fa968d0>}"
      ]
     },
     "execution_count": 54,
     "metadata": {},
     "output_type": "execute_result"
    }
   ],
   "source": [
    "space"
   ]
  },
  {
   "cell_type": "code",
   "execution_count": 55,
   "metadata": {},
   "outputs": [
    {
     "name": "stderr",
     "output_type": "stream",
     "text": [
      "/home/martha/anaconda3/lib/python3.7/site-packages/sklearn/model_selection/_split.py:296: FutureWarning: Setting a random_state has no effect since shuffle is False. This will raise an error in 0.24. You should leave random_state to its default (None), or set shuffle=True.\n",
      "  FutureWarning\n"
     ]
    }
   ],
   "source": [
    "# fine tune model with balanced class weight\n",
    "\n",
    "\n",
    "#def model with balnce class weights \n",
    "weight={0:1.0, 1:1.0}\n",
    "clf = LogisticRegression(class_weight=weight)\n",
    "folds= StratifiedKFold(n_splits=4, random_state=40)\n",
    "grid_search = RandomizedSearchCV(estimator=clf, param_distributions=space, n_iter=100, \n",
    "                                 scoring='recall', n_jobs=-1, cv=folds, random_state=40)\n",
    "grid_result=  grid_search.fit(X_train, y_train)"
   ]
  },
  {
   "cell_type": "code",
   "execution_count": 56,
   "metadata": {},
   "outputs": [
    {
     "data": {
      "text/plain": [
       "LogisticRegression(C=18.44948435745568, class_weight={0: 1.0, 1: 1.0},\n",
       "                   dual=False, fit_intercept=True, intercept_scaling=1,\n",
       "                   l1_ratio=None, max_iter=100, multi_class='auto', n_jobs=None,\n",
       "                   penalty='l1', random_state=None, solver='liblinear',\n",
       "                   tol=0.0001, verbose=0, warm_start=False)"
      ]
     },
     "execution_count": 56,
     "metadata": {},
     "output_type": "execute_result"
    }
   ],
   "source": [
    "grid_result.best_estimator_"
   ]
  },
  {
   "cell_type": "code",
   "execution_count": 57,
   "metadata": {},
   "outputs": [
    {
     "name": "stdout",
     "output_type": "stream",
     "text": [
      "Classification Report for Training  \n",
      "\n",
      "              precision    recall  f1-score   support\n",
      "\n",
      "           0       0.99      1.00      1.00     22290\n",
      "           1       0.98      0.93      0.96      1681\n",
      "\n",
      "    accuracy                           0.99     23971\n",
      "   macro avg       0.99      0.96      0.98     23971\n",
      "weighted avg       0.99      0.99      0.99     23971\n",
      " \n",
      "\n",
      "Classification Report for Test \n",
      "\n",
      "              precision    recall  f1-score   support\n",
      "\n",
      "           0       0.93      0.90      0.92      7430\n",
      "           1       0.08      0.12      0.10       561\n",
      "\n",
      "    accuracy                           0.85      7991\n",
      "   macro avg       0.51      0.51      0.51      7991\n",
      "weighted avg       0.87      0.85      0.86      7991\n",
      "\n"
     ]
    }
   ],
   "source": [
    "#instantiate the best model\n",
    "clf = LogisticRegression(C=18.44948435745568, class_weight={0: 1.0, 1: 1.0},\n",
    "                   dual=False, fit_intercept=True, intercept_scaling=1,\n",
    "                   l1_ratio=None, max_iter=100, multi_class='auto', n_jobs=None,\n",
    "                   penalty='l1', random_state=None, solver='liblinear',\n",
    "                   tol=0.0001, verbose=0, warm_start=False)\n",
    "\n",
    "\n",
    "clf.fit(X_train, y_train)\n",
    "train_pred = clf.predict(X_train)\n",
    "test_pred = clf.predict(X_test)\n",
    "\n",
    "print('Classification Report for Training ','\\n')\n",
    "print(classification_report(y_train, train_pred),'\\n')\n",
    "print('Classification Report for Test \\n') \n",
    "print(classification_report(y_test, test_pred))"
   ]
  },
  {
   "cell_type": "code",
   "execution_count": 58,
   "metadata": {},
   "outputs": [
    {
     "name": "stderr",
     "output_type": "stream",
     "text": [
      "/home/martha/anaconda3/lib/python3.7/site-packages/sklearn/model_selection/_split.py:296: FutureWarning: Setting a random_state has no effect since shuffle is False. This will raise an error in 0.24. You should leave random_state to its default (None), or set shuffle=True.\n",
      "  FutureWarning\n"
     ]
    },
    {
     "data": {
      "text/plain": [
       "LogisticRegression(C=0.23592457102273912, class_weight={0: 1.0, 1: 13.0},\n",
       "                   dual=False, fit_intercept=True, intercept_scaling=1,\n",
       "                   l1_ratio=None, max_iter=100, multi_class='auto', n_jobs=None,\n",
       "                   penalty='l2', random_state=None, solver='liblinear',\n",
       "                   tol=0.0001, verbose=0, warm_start=False)"
      ]
     },
     "execution_count": 58,
     "metadata": {},
     "output_type": "execute_result"
    }
   ],
   "source": [
    "# fine tune model with class weightys proportional to the class imbalance \n",
    "\n",
    "\n",
    "#use the class weights to handle the imbalance in the label \n",
    "weights = {0:1.0, 1:13.0}\n",
    "clf=LogisticRegression(class_weight=weights) \n",
    "folds=StratifiedKFold(n_splits=4, random_state=40)\n",
    "\n",
    "grid_search=RandomizedSearchCV(estimator=clf, param_distributions=space, n_iter=100, \n",
    "                               scoring='recall', n_jobs=-1, cv=folds, random_state=40)\n",
    "grid_result = grid_search.fit(X_train, y_train)\n",
    "\n",
    "grid_result.best_estimator_"
   ]
  },
  {
   "cell_type": "code",
   "execution_count": 59,
   "metadata": {},
   "outputs": [
    {
     "name": "stdout",
     "output_type": "stream",
     "text": [
      "Classification Report for Training  \n",
      "\n",
      "              precision    recall  f1-score   support\n",
      "\n",
      "           0       1.00      0.94      0.97     22290\n",
      "           1       0.55      0.95      0.70      1681\n",
      "\n",
      "    accuracy                           0.94     23971\n",
      "   macro avg       0.77      0.94      0.83     23971\n",
      "weighted avg       0.96      0.94      0.95     23971\n",
      " \n",
      "\n",
      "Classification Report for Test \n",
      "\n",
      "              precision    recall  f1-score   support\n",
      "\n",
      "           0       0.93      0.87      0.90      7430\n",
      "           1       0.08      0.16      0.11       561\n",
      "\n",
      "    accuracy                           0.82      7991\n",
      "   macro avg       0.51      0.51      0.50      7991\n",
      "weighted avg       0.87      0.82      0.84      7991\n",
      "\n"
     ]
    }
   ],
   "source": [
    "#instantiate best model \n",
    "clf=LogisticRegression(C=0.23592457102273912, class_weight={0: 1.0, 1: 13.0},\n",
    "                   dual=False, fit_intercept=True, intercept_scaling=1,\n",
    "                   l1_ratio=None, max_iter=100, multi_class='auto', n_jobs=None,\n",
    "                   penalty='l2', random_state=None, solver='liblinear',\n",
    "                   tol=0.0001, verbose=0, warm_start=False)\n",
    "\n",
    "\n",
    "clf.fit(X_train, y_train)\n",
    "train_pred = clf.predict(X_train)\n",
    "test_pred= clf.predict(X_test)\n",
    "\n",
    "print('Classification Report for Training ','\\n')\n",
    "print(classification_report(y_train, train_pred),'\\n')\n",
    "print('Classification Report for Test \\n') \n",
    "print(classification_report(y_test, test_pred))"
   ]
  },
  {
   "cell_type": "code",
   "execution_count": 60,
   "metadata": {},
   "outputs": [
    {
     "data": {
      "image/png": "[encoded data removed]",
      "text/plain": [
       "<Figure size 864x360 with 2 Axes>"
      ]
     },
     "metadata": {
      "needs_background": "light"
     },
     "output_type": "display_data"
    }
   ],
   "source": [
    "from sklearn.metrics import plot_confusion_matrix\n",
    "plot_confusion_matrix(clf, X_test, y_test, cmap='summer')\n",
    "plt.title('Confusion Matrix Test Set') \n",
    "plt.show()"
   ]
  },
  {
   "cell_type": "code",
   "execution_count": null,
   "metadata": {},
   "outputs": [],
   "source": []
  },
  {
   "cell_type": "code",
   "execution_count": null,
   "metadata": {},
   "outputs": [],
   "source": []
  },
  {
   "cell_type": "code",
   "execution_count": null,
   "metadata": {},
   "outputs": [],
   "source": []
  },
  {
   "cell_type": "code",
   "execution_count": null,
   "metadata": {},
   "outputs": [],
   "source": []
  },
  {
   "cell_type": "code",
   "execution_count": null,
   "metadata": {},
   "outputs": [],
   "source": []
  },
  {
   "cell_type": "code",
   "execution_count": null,
   "metadata": {},
   "outputs": [],
   "source": []
  },
  {
   "cell_type": "code",
   "execution_count": null,
   "metadata": {},
   "outputs": [],
   "source": [
    "#ROUGH"
   ]
  },
  {
   "cell_type": "code",
   "execution_count": null,
   "metadata": {},
   "outputs": [],
   "source": [
    "#Removing diacritics \n",
    "def simplify(text):\n",
    "    import unicodedata\n",
    "    try:\n",
    "        text = unicodedatade(text, 'utf-8')\n",
    "    except NameError\n",
    "        pass\n",
    "    text = unicodedata.normalize('NFD', text).encode('ascii', 'ignore').defecode('utf-8')\n",
    "    return str(text)\n",
    "\n",
    "\n",
    "df['tweet'] = df['tweet'].apply(simplify)"
   ]
  },
  {
   "cell_type": "code",
   "execution_count": null,
   "metadata": {},
   "outputs": [],
   "source": [
    "#we can also tokenize using tweettokenizer \n",
    "\n",
    "tokenizer = TweetTokenizer(preserve_case=True)\n",
    "#tokenizer.tokenize('emy whey are coming to wonder:- ')#on sentence or\n",
    "df['tweet']=df['tweet'].apply(tokenizer.tokenize) "
   ]
  },
  {
   "cell_type": "code",
   "execution_count": null,
   "metadata": {},
   "outputs": [],
   "source": []
  },
  {
   "cell_type": "code",
   "execution_count": null,
   "metadata": {},
   "outputs": [],
   "source": []
  },
  {
   "cell_type": "code",
   "execution_count": 153,
   "metadata": {},
   "outputs": [],
   "source": [
    "ff=df['tweet'][22946]"
   ]
  },
  {
   "cell_type": "code",
   "execution_count": 161,
   "metadata": {},
   "outputs": [
    {
     "data": {
      "text/plain": [
       "\"so cool to find sales on my bihday week ð\\x9f\\x8e\\x82ð\\x9f\\x8e\\x89 i didn't exactly splurge and got some things that i actually needed. yay!! #bihdayweek  \""
      ]
     },
     "execution_count": 161,
     "metadata": {},
     "output_type": "execute_result"
    }
   ],
   "source": [
    "ff"
   ]
  },
  {
   "cell_type": "code",
   "execution_count": 162,
   "metadata": {},
   "outputs": [
    {
     "data": {
      "text/plain": [
       "\"so cool to find sales on my bihday week ð\\x9f\\x8e\\x82ð\\x9f\\x8e\\x89 i didn't exactly splurge and got some things that i actually needed. yay!! #bihdayweek  \""
      ]
     },
     "execution_count": 162,
     "metadata": {},
     "output_type": "execute_result"
    }
   ],
   "source": [
    "x=re.sub('@\\w+',' ', ff) \n",
    "x"
   ]
  },
  {
   "cell_type": "code",
   "execution_count": 232,
   "metadata": {},
   "outputs": [
    {
     "data": {
      "text/plain": [
       "\"so cool to find sales on my bihday week ð\\x9f\\x8e\\x82ð\\x9f\\x8e\\x89 i didn't exactly splurge and got some things that i actually needed. yay!! #bihdayweek  \""
      ]
     },
     "execution_count": 232,
     "metadata": {},
     "output_type": "execute_result"
    }
   ],
   "source": [
    "t=re.sub('\\w+://\\S+', ' ', x)\n",
    "t "
   ]
  },
  {
   "cell_type": "code",
   "execution_count": 233,
   "metadata": {},
   "outputs": [
    {
     "data": {
      "text/plain": [
       "\"so cool to find sales on my bihday weeki didn't exactly splurge and got some things that i actually neededyaybihdayweek\""
      ]
     },
     "execution_count": 233,
     "metadata": {},
     "output_type": "execute_result"
    }
   ],
   "source": [
    "y=re.sub('#|[^A-Za-z]+ ','', t)\n",
    "y"
   ]
  },
  {
   "cell_type": "code",
   "execution_count": 258,
   "metadata": {},
   "outputs": [
    {
     "data": {
      "text/plain": [
       "['so',\n",
       " 'cool',\n",
       " 'to',\n",
       " 'find',\n",
       " 'sales',\n",
       " 'on',\n",
       " 'my',\n",
       " 'bihday',\n",
       " 'weeki',\n",
       " \"didn't\",\n",
       " 'exactly',\n",
       " 'splurge',\n",
       " 'and',\n",
       " 'got',\n",
       " 'some',\n",
       " 'things',\n",
       " 'that',\n",
       " 'i',\n",
       " 'actually',\n",
       " 'neededyaybihdayweek']"
      ]
     },
     "execution_count": 258,
     "metadata": {},
     "output_type": "execute_result"
    }
   ],
   "source": [
    "z=y.split( )#word_tokenize(y)\n",
    "z"
   ]
  },
  {
   "cell_type": "code",
   "execution_count": 254,
   "metadata": {},
   "outputs": [
    {
     "data": {
      "text/plain": [
       "'cool'"
      ]
     },
     "execution_count": 254,
     "metadata": {},
     "output_type": "execute_result"
    }
   ],
   "source": [
    "n[0]"
   ]
  },
  {
   "cell_type": "code",
   "execution_count": null,
   "metadata": {},
   "outputs": [],
   "source": []
  },
  {
   "cell_type": "code",
   "execution_count": 125,
   "metadata": {},
   "outputs": [
    {
     "name": "stdout",
     "output_type": "stream",
     "text": [
      "little wonder you are so kind\n"
     ]
    }
   ],
   "source": [
    "#Spelling corrections \n",
    "from textblob import TextBlob \n",
    "eg = 'litle wnnder you are so kiind'\n",
    "egc = TextBlob(eg)\n",
    "correct=egc.correct()\n",
    "print(correct)\n",
    "\n",
    "\n",
    "def spell_check(text):\n",
    "    txtblob=TextBlob(text)\n",
    "    corr_text=txtblob.correct() \n",
    "    return corr_text"
   ]
  },
  {
   "cell_type": "code",
   "execution_count": null,
   "metadata": {},
   "outputs": [],
   "source": []
  },
  {
   "cell_type": "code",
   "execution_count": 177,
   "metadata": {},
   "outputs": [
    {
     "name": "stderr",
     "output_type": "stream",
     "text": [
      "[nltk_data] Downloading package words to /home/martha/nltk_data...\n",
      "[nltk_data]   Unzipping corpora/words.zip.\n"
     ]
    },
    {
     "data": {
      "text/plain": [
       "True"
      ]
     },
     "execution_count": 177,
     "metadata": {},
     "output_type": "execute_result"
    }
   ],
   "source": [
    "nltk.download('words')"
   ]
  },
  {
   "cell_type": "code",
   "execution_count": 179,
   "metadata": {},
   "outputs": [],
   "source": [
    "words=set(nltk.corpus.words.words())"
   ]
  },
  {
   "cell_type": "code",
   "execution_count": null,
   "metadata": {},
   "outputs": [],
   "source": []
  }
 ],
 "metadata": {
  "kernelspec": {
   "display_name": "Python 3",
   "language": "python",
   "name": "python3"
  },
  "language_info": {
   "codemirror_mode": {
    "name": "ipython",
    "version": 3
   },
   "file_extension": ".py",
   "mimetype": "text/x-python",
   "name": "python",
   "nbconvert_exporter": "python",
   "pygments_lexer": "ipython3",
   "version": "3.7.6"
  }
 },
 "nbformat": 4,
 "nbformat_minor": 4
}
